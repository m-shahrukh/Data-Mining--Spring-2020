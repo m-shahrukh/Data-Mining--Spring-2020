{
 "cells": [
  {
   "cell_type": "markdown",
   "metadata": {},
   "source": [
    "<h1><center>Assignment No 1</center></h1>\n",
    "<h1><center>Data Understanding and Exploratory Data Analysis</center></h1>\n"
   ]
  },
  {
   "cell_type": "markdown",
   "metadata": {},
   "source": [
    "# Guidelines\n",
    "1. Rename jupyter notebook as **rollnumber_firstname_lastname**.\n",
    "1. You are only allowed to use pandas, numpy and seaborn libraries.\n",
    "1. You are supposed to answer the question here on Jupyter notebook. Use markdown cells to answer the questions while use \"Code\" cells to write the code. You can double click on any markdown cell to edit it and press **shift+enter** to execute any cell.\n",
    "1. Once finished, go to File menu and download the notebook as .html\n",
    "1. Make sure all required figures and tables are visible in the HTML file.\n",
    "1. Submit this HTML file. Note that it must follow the naming convention mentioned above."
   ]
  },
  {
   "cell_type": "markdown",
   "metadata": {},
   "source": [
    "# Import Libraries"
   ]
  },
  {
   "cell_type": "code",
   "execution_count": 9,
   "metadata": {},
   "outputs": [],
   "source": [
    "# Do not modify this cell\n",
    "\n",
    "import pandas as pd\n",
    "import numpy as np\n",
    "import seaborn as sns"
   ]
  },
  {
   "cell_type": "markdown",
   "metadata": {},
   "source": [
    "# Import Data"
   ]
  },
  {
   "cell_type": "code",
   "execution_count": 10,
   "metadata": {},
   "outputs": [],
   "source": [
    "# do not modify this cell\n",
    "\n",
    "train_data = pd.read_csv('data/anneal.data', header=None,  \n",
    "                         names = ['shape','thick','width','length','oil', 'bore', 'packing', 'classes'], \n",
    "                         sep= '\\t')"
   ]
  },
  {
   "cell_type": "code",
   "execution_count": 11,
   "metadata": {},
   "outputs": [
    {
     "data": {
      "text/html": [
       "<div>\n",
       "<style scoped>\n",
       "    .dataframe tbody tr th:only-of-type {\n",
       "        vertical-align: middle;\n",
       "    }\n",
       "\n",
       "    .dataframe tbody tr th {\n",
       "        vertical-align: top;\n",
       "    }\n",
       "\n",
       "    .dataframe thead th {\n",
       "        text-align: right;\n",
       "    }\n",
       "</style>\n",
       "<table border=\"1\" class=\"dataframe\">\n",
       "  <thead>\n",
       "    <tr style=\"text-align: right;\">\n",
       "      <th></th>\n",
       "      <th>shape</th>\n",
       "      <th>thick</th>\n",
       "      <th>width</th>\n",
       "      <th>length</th>\n",
       "      <th>oil</th>\n",
       "      <th>bore</th>\n",
       "      <th>packing</th>\n",
       "      <th>classes</th>\n",
       "    </tr>\n",
       "  </thead>\n",
       "  <tbody>\n",
       "    <tr>\n",
       "      <th>0</th>\n",
       "      <td>COIL</td>\n",
       "      <td>0.700</td>\n",
       "      <td>610.0</td>\n",
       "      <td>0</td>\n",
       "      <td>NaN</td>\n",
       "      <td>0</td>\n",
       "      <td>NaN</td>\n",
       "      <td>3</td>\n",
       "    </tr>\n",
       "    <tr>\n",
       "      <th>1</th>\n",
       "      <td>COIL</td>\n",
       "      <td>3.200</td>\n",
       "      <td>610.0</td>\n",
       "      <td>0</td>\n",
       "      <td>NaN</td>\n",
       "      <td>0</td>\n",
       "      <td>NaN</td>\n",
       "      <td>3</td>\n",
       "    </tr>\n",
       "    <tr>\n",
       "      <th>2</th>\n",
       "      <td>SHEET</td>\n",
       "      <td>0.700</td>\n",
       "      <td>1300.0</td>\n",
       "      <td>762</td>\n",
       "      <td>NaN</td>\n",
       "      <td>0</td>\n",
       "      <td>NaN</td>\n",
       "      <td>3</td>\n",
       "    </tr>\n",
       "    <tr>\n",
       "      <th>3</th>\n",
       "      <td>COIL</td>\n",
       "      <td>2.801</td>\n",
       "      <td>385.1</td>\n",
       "      <td>0</td>\n",
       "      <td>NaN</td>\n",
       "      <td>0</td>\n",
       "      <td>NaN</td>\n",
       "      <td>3</td>\n",
       "    </tr>\n",
       "    <tr>\n",
       "      <th>4</th>\n",
       "      <td>SHEET</td>\n",
       "      <td>0.801</td>\n",
       "      <td>255.0</td>\n",
       "      <td>269</td>\n",
       "      <td>NaN</td>\n",
       "      <td>0</td>\n",
       "      <td>NaN</td>\n",
       "      <td>3</td>\n",
       "    </tr>\n",
       "    <tr>\n",
       "      <th>5</th>\n",
       "      <td>COIL</td>\n",
       "      <td>1.600</td>\n",
       "      <td>610.0</td>\n",
       "      <td>0</td>\n",
       "      <td>NaN</td>\n",
       "      <td>0</td>\n",
       "      <td>NaN</td>\n",
       "      <td>3</td>\n",
       "    </tr>\n",
       "    <tr>\n",
       "      <th>6</th>\n",
       "      <td>SHEET</td>\n",
       "      <td>0.699</td>\n",
       "      <td>610.0</td>\n",
       "      <td>4880</td>\n",
       "      <td>Y</td>\n",
       "      <td>0</td>\n",
       "      <td>NaN</td>\n",
       "      <td>3</td>\n",
       "    </tr>\n",
       "    <tr>\n",
       "      <th>7</th>\n",
       "      <td>COIL</td>\n",
       "      <td>3.300</td>\n",
       "      <td>152.0</td>\n",
       "      <td>0</td>\n",
       "      <td>NaN</td>\n",
       "      <td>0</td>\n",
       "      <td>NaN</td>\n",
       "      <td>3</td>\n",
       "    </tr>\n",
       "    <tr>\n",
       "      <th>8</th>\n",
       "      <td>COIL</td>\n",
       "      <td>0.699</td>\n",
       "      <td>1320.0</td>\n",
       "      <td>0</td>\n",
       "      <td>NaN</td>\n",
       "      <td>0</td>\n",
       "      <td>NaN</td>\n",
       "      <td>3</td>\n",
       "    </tr>\n",
       "    <tr>\n",
       "      <th>9</th>\n",
       "      <td>SHEET</td>\n",
       "      <td>1.000</td>\n",
       "      <td>1320.0</td>\n",
       "      <td>762</td>\n",
       "      <td>NaN</td>\n",
       "      <td>0</td>\n",
       "      <td>NaN</td>\n",
       "      <td>3</td>\n",
       "    </tr>\n",
       "  </tbody>\n",
       "</table>\n",
       "</div>"
      ],
      "text/plain": [
       "   shape  thick   width  length  oil  bore  packing classes\n",
       "0   COIL  0.700   610.0       0  NaN     0      NaN       3\n",
       "1   COIL  3.200   610.0       0  NaN     0      NaN       3\n",
       "2  SHEET  0.700  1300.0     762  NaN     0      NaN       3\n",
       "3   COIL  2.801   385.1       0  NaN     0      NaN       3\n",
       "4  SHEET  0.801   255.0     269  NaN     0      NaN       3\n",
       "5   COIL  1.600   610.0       0  NaN     0      NaN       3\n",
       "6  SHEET  0.699   610.0    4880    Y     0      NaN       3\n",
       "7   COIL  3.300   152.0       0  NaN     0      NaN       3\n",
       "8   COIL  0.699  1320.0       0  NaN     0      NaN       3\n",
       "9  SHEET  1.000  1320.0     762  NaN     0      NaN       3"
      ]
     },
     "execution_count": 11,
     "metadata": {},
     "output_type": "execute_result"
    }
   ],
   "source": [
    "train_data_backup = train_data\n",
    "train_data.head(10)"
   ]
  },
  {
   "cell_type": "markdown",
   "metadata": {},
   "source": [
    "# Part 1: Filling missing (NaN) values. (8 questions, 5 marks each)\n",
    "**We have loaded a dataset for you and it's first 10 rows are printed. All below experiments are to be performed on the variable \"train_data\".**\n",
    "\n",
    "1. Identify and enlist numerical and categorical attributes.\n",
    "1. Print summary statistics of the numerical attributes of the data (mean, std, min, 25%, 50%, 75%, max, counts).\n",
    "1. Write a code below that prints total number of records and total number of attributes of this data.\n",
    "1. Fill the missing values with using next valid observation. For example, for **oil** column, first 6 rows would be filled with value **Y**. This is known as \"backward fill\". \n",
    "1. What problems would arise if you use \"forward fill\" instead?\n",
    "1. Print summary statistics again and comment on the difference (before and after filling missing values)."
   ]
  },
  {
   "cell_type": "markdown",
   "metadata": {},
   "source": [
    "**Enlist numerical and categorical attributes.**\n",
    "\n",
    "> Numerical Attributes : Thick, width, length, bore, packing\n",
    "\n",
    "> Categorical Attributes: Shape, Oil, Classes\n"
   ]
  },
  {
   "cell_type": "code",
   "execution_count": 12,
   "metadata": {},
   "outputs": [
    {
     "name": "stdout",
     "output_type": "stream",
     "text": [
      "            thick        width       length        bore   packing\n",
      "count  798.000000   798.000000   798.000000  798.000000  9.000000\n",
      "mean     1.181847   781.744361  1273.037594   28.195489  2.888889\n",
      "std      0.861608   404.722346  1886.768139  124.811534  0.333333\n",
      "min      0.250000     0.000000     0.000000    0.000000  2.000000\n",
      "25%      0.601000   609.900000     0.000000    0.000000  3.000000\n",
      "50%      0.800000   610.000000   611.000000    0.000000  3.000000\n",
      "75%      1.600000  1250.000000   762.000000    0.000000  3.000000\n",
      "max      4.000000  1525.000000  4880.000000  600.000000  3.000000\n"
     ]
    }
   ],
   "source": [
    "# Print Summary statistics of numerical attribtues\n",
    "\n",
    "#print(train_data.mean(axis=0))\n",
    "\n",
    "print(train_data.describe())\n"
   ]
  },
  {
   "cell_type": "code",
   "execution_count": 13,
   "metadata": {},
   "outputs": [
    {
     "name": "stdout",
     "output_type": "stream",
     "text": [
      "Number of Attributes: 8\n",
      "Number of Records: 798\n"
     ]
    }
   ],
   "source": [
    "# Show number of records and number of attributes of the data above\n",
    "\n",
    "\n",
    "print(\"Number of Attributes:\",len(train_data.columns))\n",
    "print(\"Number of Records:\",(train_data.shape[0]))\n",
    "\n"
   ]
  },
  {
   "cell_type": "code",
   "execution_count": 14,
   "metadata": {},
   "outputs": [
    {
     "name": "stdout",
     "output_type": "stream",
     "text": [
      "   shape  thick   width  length oil  bore  packing classes\n",
      "0   COIL  0.700   610.0       0   Y     0      3.0       3\n",
      "1   COIL  3.200   610.0       0   Y     0      3.0       3\n",
      "2  SHEET  0.700  1300.0     762   Y     0      3.0       3\n",
      "3   COIL  2.801   385.1       0   Y     0      3.0       3\n",
      "4  SHEET  0.801   255.0     269   Y     0      3.0       3\n",
      "5   COIL  1.600   610.0       0   Y     0      3.0       3\n",
      "6  SHEET  0.699   610.0    4880   Y     0      3.0       3\n",
      "7   COIL  3.300   152.0       0   Y     0      3.0       3\n",
      "8   COIL  0.699  1320.0       0   Y     0      3.0       3\n",
      "9  SHEET  1.000  1320.0     762   Y     0      3.0       3\n"
     ]
    }
   ],
   "source": [
    "# Write code to perform backward fill for all columns. Show first 10 rows.\n",
    "\n",
    "train_data= train_data.bfill()\n",
    "print(train_data.head(10))\n",
    "\n"
   ]
  },
  {
   "cell_type": "markdown",
   "metadata": {},
   "source": [
    "# Convert this to a \"Markdown\" cell and answer the question 5.\n",
    "\n",
    "With forward fill, you fill the missing values with a value found *before* the missing row. This may still result in missing values specially in our case as the first few rows of \"Oil\" were missing, so there was no \"previous\" value to go by for a forward fill so these rows would have still remained NaN. So we would still end up with missing values so we go for backwards fill instead.\n"
   ]
  },
  {
   "cell_type": "code",
   "execution_count": 15,
   "metadata": {},
   "outputs": [
    {
     "name": "stdout",
     "output_type": "stream",
     "text": [
      "            thick        width       length        bore     packing\n",
      "count  798.000000   798.000000   798.000000  798.000000  769.000000\n",
      "mean     1.181847   781.744361  1273.037594   28.195489    2.892068\n",
      "std      0.861608   404.722346  1886.768139  124.811534    0.310497\n",
      "min      0.250000     0.000000     0.000000    0.000000    2.000000\n",
      "25%      0.601000   609.900000     0.000000    0.000000    3.000000\n",
      "50%      0.800000   610.000000   611.000000    0.000000    3.000000\n",
      "75%      1.600000  1250.000000   762.000000    0.000000    3.000000\n",
      "max      4.000000  1525.000000  4880.000000  600.000000    3.000000\n"
     ]
    }
   ],
   "source": [
    "# Print summary statistics after filling missing values\n",
    "\n",
    "print(train_data.describe())\n",
    "\n",
    "#Packing field still has a few missing values which means that bfill was not sufficient.\n",
    "\n"
   ]
  },
  {
   "cell_type": "markdown",
   "metadata": {},
   "source": [
    "7. Now use **train_data_backup** and fill missing values by taking mode of each column. Print summary statistics of numerical attributes and comment of the difference (between backward fill and mode fill).\n",
    "8. Which method of filling missing values is desirable for this particular data and why?"
   ]
  },
  {
   "cell_type": "code",
   "execution_count": 16,
   "metadata": {},
   "outputs": [
    {
     "name": "stdout",
     "output_type": "stream",
     "text": [
      "            thick        width       length        bore     packing\n",
      "count  798.000000   798.000000   798.000000  798.000000  798.000000\n",
      "mean     1.181847   781.744361  1273.037594   28.195489    2.998747\n",
      "std      0.861608   404.722346  1886.768139  124.811534    0.035400\n",
      "min      0.250000     0.000000     0.000000    0.000000    2.000000\n",
      "25%      0.601000   609.900000     0.000000    0.000000    3.000000\n",
      "50%      0.800000   610.000000   611.000000    0.000000    3.000000\n",
      "75%      1.600000  1250.000000   762.000000    0.000000    3.000000\n",
      "max      4.000000  1525.000000  4880.000000  600.000000    3.000000\n"
     ]
    }
   ],
   "source": [
    "# Fill missing values of train_data_backup and print summary statistics.\n",
    "\n",
    "for x in train_data_backup:\n",
    "    train_data_backup[x]= train_data_backup[x].fillna(value=train_data_backup[x].mode()[0])\n",
    "\n",
    "print(train_data_backup.describe())\n",
    "\n",
    "\n"
   ]
  },
  {
   "cell_type": "markdown",
   "metadata": {},
   "source": [
    "The difference between backfill and mode fill is that with backfill, we take the next value and fill the missing values BEFORE this value.\n",
    "In mode fill, we just take the most frequently occurring value and fill ALL missing values with that value"
   ]
  },
  {
   "cell_type": "markdown",
   "metadata": {},
   "source": [
    "# Comment on which method is better and why.\n",
    "\n",
    "  For backwards fill, it takes the next value and fills the missing columns that came before with that value.\n",
    "  However, if there are missing values at the end of the table, then backwards fill also fails to fill in all the missing columns because there is no \"next\" value to use. In the summary of train_data we see 769 as the count for \"packing\" as there were values in the end that were missing. \n",
    "  \n",
    "  In mode fill, we just take the mode of the entire column I.e. the most frequently occurring value and replace all missing       values with that value. This way, as we see above in the summary for train_data_backup all rows are filled now as \"packing\"     also contains 798 records. So for this type of dataset, <b>mode fill</b> is better.\n",
    "\n",
    "With mode fill, all missing values are catered to, and there isn't much of a difference in the statistical values such as std dev mean etc so it's better.\n",
    "\n"
   ]
  },
  {
   "cell_type": "markdown",
   "metadata": {},
   "source": [
    "# Part 2: Correlation, Covariance and Heatmaps (4 questions, 5 marks each)\n",
    "**In this data, you are provided gender income data. Your job is to find correlation and covariance between attributes.**"
   ]
  },
  {
   "cell_type": "code",
   "execution_count": 17,
   "metadata": {},
   "outputs": [],
   "source": [
    "gender_data = pd.read_csv(\"data/gender_data.csv\", sep = ',')"
   ]
  },
  {
   "cell_type": "code",
   "execution_count": 18,
   "metadata": {},
   "outputs": [
    {
     "data": {
      "text/html": [
       "<div>\n",
       "<style scoped>\n",
       "    .dataframe tbody tr th:only-of-type {\n",
       "        vertical-align: middle;\n",
       "    }\n",
       "\n",
       "    .dataframe tbody tr th {\n",
       "        vertical-align: top;\n",
       "    }\n",
       "\n",
       "    .dataframe thead th {\n",
       "        text-align: right;\n",
       "    }\n",
       "</style>\n",
       "<table border=\"1\" class=\"dataframe\">\n",
       "  <thead>\n",
       "    <tr style=\"text-align: right;\">\n",
       "      <th></th>\n",
       "      <th>Gender</th>\n",
       "      <th>Age</th>\n",
       "      <th>Income</th>\n",
       "      <th>City</th>\n",
       "    </tr>\n",
       "  </thead>\n",
       "  <tbody>\n",
       "    <tr>\n",
       "      <th>0</th>\n",
       "      <td>F</td>\n",
       "      <td>28</td>\n",
       "      <td>90000</td>\n",
       "      <td>khi</td>\n",
       "    </tr>\n",
       "    <tr>\n",
       "      <th>1</th>\n",
       "      <td>F</td>\n",
       "      <td>25</td>\n",
       "      <td>75000</td>\n",
       "      <td>lhr</td>\n",
       "    </tr>\n",
       "    <tr>\n",
       "      <th>2</th>\n",
       "      <td>F</td>\n",
       "      <td>22</td>\n",
       "      <td>50000</td>\n",
       "      <td>lhr</td>\n",
       "    </tr>\n",
       "    <tr>\n",
       "      <th>3</th>\n",
       "      <td>M</td>\n",
       "      <td>27</td>\n",
       "      <td>78000</td>\n",
       "      <td>lhr</td>\n",
       "    </tr>\n",
       "    <tr>\n",
       "      <th>4</th>\n",
       "      <td>M</td>\n",
       "      <td>22</td>\n",
       "      <td>50000</td>\n",
       "      <td>lhr</td>\n",
       "    </tr>\n",
       "  </tbody>\n",
       "</table>\n",
       "</div>"
      ],
      "text/plain": [
       "  Gender  Age  Income City\n",
       "0      F   28   90000  khi\n",
       "1      F   25   75000  lhr\n",
       "2      F   22   50000  lhr\n",
       "3      M   27   78000  lhr\n",
       "4      M   22   50000  lhr"
      ]
     },
     "execution_count": 18,
     "metadata": {},
     "output_type": "execute_result"
    }
   ],
   "source": [
    "gender_data.head()"
   ]
  },
  {
   "cell_type": "markdown",
   "metadata": {},
   "source": [
    "1. Identify \"Binary Symmetric Attribute\", \"Numerical Continuous Attribute\", \"Numerical Discrete Attribute\" and \"Categorical Discrete Attribute\".\n",
    "1. Write a code to convert all categorical attributes to numerical attributes (you may use dictionary to map the values to integers).\n",
    "1. Write code to calculate correlation matrix and visualize it using a heatmap. Note that if you have sucessfully converted all the attributes to numerical variables, you will get a 4x4 matrix. Comment on the results. In particularly, answer the following.\n",
    " 1. Does the choice of city of employment makes an impact on the earning of a particular gender?\n",
    " 1. Does income variable depends on age variable?\n",
    "1. Write code to calculate covariance matrix and print it. Comment on the results. What does covariance signify with respect to this dataset?\n"
   ]
  },
  {
   "cell_type": "markdown",
   "metadata": {},
   "source": [
    "**Write down the attributes you have identified.**\n",
    "\n",
    "\n"
   ]
  },
  {
   "cell_type": "markdown",
   "metadata": {},
   "source": [
    "Binary: Gender\n",
    "Numeric Discrete: Age\n",
    "Numeric Continous: Income\n",
    "Categorical Discrete Attribute: City"
   ]
  },
  {
   "cell_type": "code",
   "execution_count": 19,
   "metadata": {},
   "outputs": [
    {
     "name": "stdout",
     "output_type": "stream",
     "text": [
      "Gender    object\n",
      "Age        int64\n",
      "Income     int64\n",
      "City      object\n",
      "dtype: object\n",
      "   Gender  Age  Income  City\n",
      "0       0   28   90000     0\n",
      "1       0   25   75000     1\n",
      "2       0   22   50000     1\n",
      "3       1   27   78000     1\n",
      "4       1   22   50000     1\n"
     ]
    }
   ],
   "source": [
    "# Code to convert attributes\n",
    "\n",
    "print(gender_data.dtypes)\n",
    "\n",
    "\n",
    "genders= { \"F\": 0,\n",
    "           \"M\": 1}\n",
    "\n",
    "cityList=gender_data['City'].unique().tolist()\n",
    "numbers=range(len(cityList))\n",
    "citiesDict= dict(zip(cityList,numbers))\n",
    "gender_data['Gender']=gender_data['Gender'].replace(genders)\n",
    "gender_data['City']=gender_data['City'].replace(citiesDict)\n",
    "#print(dict(zip(cityList,numbers)))\n",
    "print(gender_data.head())\n"
   ]
  },
  {
   "cell_type": "code",
   "execution_count": 20,
   "metadata": {},
   "outputs": [
    {
     "name": "stdout",
     "output_type": "stream",
     "text": [
      "          Gender       Age    Income      City\n",
      "Gender  1.000000  0.000000  0.003023  0.113961\n",
      "Age     0.000000  1.000000  0.977987 -0.024776\n",
      "Income  0.003023  0.977987  1.000000 -0.003790\n",
      "City    0.113961 -0.024776 -0.003790  1.000000\n"
     ]
    }
   ],
   "source": [
    "# Calculate correlation\n",
    "\n",
    "correlation = gender_data.corr()\n",
    "print(correlation)"
   ]
  },
  {
   "cell_type": "code",
   "execution_count": 21,
   "metadata": {},
   "outputs": [
    {
     "data": {
      "image/png": "[encoded data removed]",
      "text/plain": [
       "<Figure size 432x288 with 2 Axes>"
      ]
     },
     "metadata": {
      "needs_background": "light"
     },
     "output_type": "display_data"
    }
   ],
   "source": [
    "# Heatmap Sample\n",
    "ax = sns.heatmap(correlation, annot=True, cmap=\"YlGnBu\")"
   ]
  },
  {
   "cell_type": "markdown",
   "metadata": {},
   "source": [
    "**Comments on the Heatmap above**\n",
    "\n",
    "\n"
   ]
  },
  {
   "cell_type": "markdown",
   "metadata": {},
   "source": [
    "A) The co-efficient is 0.11 for city and gender so the city does not really have an impact on the earning of a particular gender as the co-efficient magnitude is too small.\n",
    "\n",
    "B) Yes, both are highly correlated with a value of 0.98 so they have a strong dependency as correlation implies dependence.."
   ]
  },
  {
   "cell_type": "code",
   "execution_count": 22,
   "metadata": {},
   "outputs": [
    {
     "name": "stdout",
     "output_type": "stream",
     "text": [
      "           Gender           Age        Income       City\n",
      "Gender   0.255814      0.000000  2.325581e+01   0.046512\n",
      "Age      0.000000      5.412262  3.460465e+04  -0.046512\n",
      "Income  23.255814  34604.651163  2.313256e+08 -46.511628\n",
      "City     0.046512     -0.046512 -4.651163e+01   0.651163\n"
     ]
    }
   ],
   "source": [
    "# Caclulate covariance matrix and print it (4x4 matrix)\n",
    "cov= gender_data.cov()\n",
    "print(cov)\n",
    "\n"
   ]
  },
  {
   "cell_type": "markdown",
   "metadata": {},
   "source": [
    "**Comments on the Covariance**\n",
    "\n",
    "\n",
    "\n"
   ]
  },
  {
   "cell_type": "markdown",
   "metadata": {},
   "source": [
    "Covariance matrix with respect to this dataset signifies that Gender and Age have an impact on Income whereas the City may not.\n",
    "<ul> Income and gender have positive coefficient. Income is more for Male gender as the value 1 was assigned to males and 0 for females. </ul>\n",
    "    <ul> The higher the age, the larger the income as shown by the covariance value </ul>\n",
    "    <ul> The city of employment does show negative covariance which means that as we go from Karachi to islamabad to lahore, income tends to decrease, but not by much due to low magnitude of covariance value. I assigned the values 0, 1, 2 to karachi, islamabad, and lahore respectively. </ul>\n"
   ]
  },
  {
   "cell_type": "code",
   "execution_count": null,
   "metadata": {},
   "outputs": [],
   "source": []
  }
 ],
 "metadata": {
  "kernelspec": {
   "display_name": "Python 3",
   "language": "python",
   "name": "python3"
  },
  "language_info": {
   "codemirror_mode": {
    "name": "ipython",
    "version": 3
   },
   "file_extension": ".py",
   "mimetype": "text/x-python",
   "name": "python",
   "nbconvert_exporter": "python",
   "pygments_lexer": "ipython3",
   "version": "3.7.3"
  }
 },
 "nbformat": 4,
 "nbformat_minor": 2
}
