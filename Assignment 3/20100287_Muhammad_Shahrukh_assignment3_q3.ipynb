{
 "cells": [
  {
   "cell_type": "markdown",
   "metadata": {
    "colab_type": "text",
    "id": "eaiad9bsntmD"
   },
   "source": [
    "## Q3) Outlier Detection\n",
    "Outlier detection (also known as '*anomaly detection*') is the process of finding observation points that are very distant from other observations. Such observation points are called outliers or anomalies. In this question,  you will employ simple visualization and statistical techniques to find the outliers and then, you will apply  outlier detection algorithms. \n",
    "\n",
    "You will be using the same **\"customer_segemntation\"** dataset that was used in the Q1. \n"
   ]
  },
  {
   "cell_type": "code",
   "execution_count": 1,
   "metadata": {
    "colab": {},
    "colab_type": "code",
    "id": "Q3vlwXnJoVrg"
   },
   "outputs": [],
   "source": [
    "import seaborn as sns\n",
    "import numpy as np\n",
    "import pandas as pd\n",
    "import matplotlib.pyplot as plt\n",
    "from scipy import stats\n",
    "from scipy.cluster.vq import kmeans\n",
    "from sklearn.neighbors import LocalOutlierFactor\n",
    "from sklearn.cluster import DBSCAN\n",
    "from matplotlib import cm"
   ]
  },
  {
   "cell_type": "code",
   "execution_count": 2,
   "metadata": {
    "colab": {},
    "colab_type": "code",
    "id": "E_CgA0HZo1dv"
   },
   "outputs": [
    {
     "data": {
      "text/html": [
       "<div>\n",
       "<style scoped>\n",
       "    .dataframe tbody tr th:only-of-type {\n",
       "        vertical-align: middle;\n",
       "    }\n",
       "\n",
       "    .dataframe tbody tr th {\n",
       "        vertical-align: top;\n",
       "    }\n",
       "\n",
       "    .dataframe thead th {\n",
       "        text-align: right;\n",
       "    }\n",
       "</style>\n",
       "<table border=\"1\" class=\"dataframe\">\n",
       "  <thead>\n",
       "    <tr style=\"text-align: right;\">\n",
       "      <th></th>\n",
       "      <th>Customer Id</th>\n",
       "      <th>Age</th>\n",
       "      <th>Edu</th>\n",
       "      <th>Years Employed</th>\n",
       "      <th>Income</th>\n",
       "      <th>Card Debt</th>\n",
       "      <th>Other Debt</th>\n",
       "      <th>Defaulted</th>\n",
       "      <th>Address</th>\n",
       "      <th>DebtIncomeRatio</th>\n",
       "    </tr>\n",
       "  </thead>\n",
       "  <tbody>\n",
       "    <tr>\n",
       "      <th>0</th>\n",
       "      <td>1</td>\n",
       "      <td>41</td>\n",
       "      <td>2</td>\n",
       "      <td>6</td>\n",
       "      <td>19</td>\n",
       "      <td>0.124</td>\n",
       "      <td>1.073</td>\n",
       "      <td>0.0</td>\n",
       "      <td>NBA001</td>\n",
       "      <td>6.3</td>\n",
       "    </tr>\n",
       "    <tr>\n",
       "      <th>1</th>\n",
       "      <td>2</td>\n",
       "      <td>47</td>\n",
       "      <td>1</td>\n",
       "      <td>26</td>\n",
       "      <td>100</td>\n",
       "      <td>4.582</td>\n",
       "      <td>8.218</td>\n",
       "      <td>0.0</td>\n",
       "      <td>NBA021</td>\n",
       "      <td>12.8</td>\n",
       "    </tr>\n",
       "    <tr>\n",
       "      <th>2</th>\n",
       "      <td>3</td>\n",
       "      <td>33</td>\n",
       "      <td>2</td>\n",
       "      <td>10</td>\n",
       "      <td>57</td>\n",
       "      <td>6.111</td>\n",
       "      <td>5.802</td>\n",
       "      <td>1.0</td>\n",
       "      <td>NBA013</td>\n",
       "      <td>20.9</td>\n",
       "    </tr>\n",
       "    <tr>\n",
       "      <th>3</th>\n",
       "      <td>4</td>\n",
       "      <td>29</td>\n",
       "      <td>2</td>\n",
       "      <td>4</td>\n",
       "      <td>19</td>\n",
       "      <td>0.681</td>\n",
       "      <td>0.516</td>\n",
       "      <td>0.0</td>\n",
       "      <td>NBA009</td>\n",
       "      <td>6.3</td>\n",
       "    </tr>\n",
       "    <tr>\n",
       "      <th>4</th>\n",
       "      <td>5</td>\n",
       "      <td>47</td>\n",
       "      <td>1</td>\n",
       "      <td>31</td>\n",
       "      <td>253</td>\n",
       "      <td>9.308</td>\n",
       "      <td>8.908</td>\n",
       "      <td>0.0</td>\n",
       "      <td>NBA008</td>\n",
       "      <td>7.2</td>\n",
       "    </tr>\n",
       "  </tbody>\n",
       "</table>\n",
       "</div>"
      ],
      "text/plain": [
       "   Customer Id  Age  Edu  Years Employed  Income  Card Debt  Other Debt  \\\n",
       "0            1   41    2               6      19      0.124       1.073   \n",
       "1            2   47    1              26     100      4.582       8.218   \n",
       "2            3   33    2              10      57      6.111       5.802   \n",
       "3            4   29    2               4      19      0.681       0.516   \n",
       "4            5   47    1              31     253      9.308       8.908   \n",
       "\n",
       "   Defaulted Address  DebtIncomeRatio  \n",
       "0        0.0  NBA001              6.3  \n",
       "1        0.0  NBA021             12.8  \n",
       "2        1.0  NBA013             20.9  \n",
       "3        0.0  NBA009              6.3  \n",
       "4        0.0  NBA008              7.2  "
      ]
     },
     "execution_count": 2,
     "metadata": {},
     "output_type": "execute_result"
    }
   ],
   "source": [
    "#loading the dataset\n",
    "cust_df = pd.read_csv(\"customer_segmentation.csv\")\n",
    "cust_df.head()"
   ]
  },
  {
   "cell_type": "code",
   "execution_count": 4,
   "metadata": {
    "colab": {},
    "colab_type": "code",
    "id": "XOAg1gItr1h0"
   },
   "outputs": [
    {
     "name": "stdout",
     "output_type": "stream",
     "text": [
      "Index(['Customer Id', 'Age', 'Edu', 'Years Employed', 'Income', 'Card Debt',\n",
      "       'Other Debt', 'Defaulted', 'Address', 'DebtIncomeRatio'],\n",
      "      dtype='object')\n"
     ]
    }
   ],
   "source": [
    "cust = cust_df.copy()\n",
    "cust = cust.dropna()\n",
    "print(cust.columns)"
   ]
  },
  {
   "cell_type": "markdown",
   "metadata": {
    "colab_type": "text",
    "id": "0W4VX5MNeg9q"
   },
   "source": [
    "### **Box-Plots**"
   ]
  },
  {
   "cell_type": "markdown",
   "metadata": {
    "colab_type": "text",
    "id": "Mz79KJOEvMjg"
   },
   "source": [
    "Plot box-plots for \"**Income**\" and \"**Card Debt**\" attributes and comment on the results. "
   ]
  },
  {
   "cell_type": "code",
   "execution_count": 34,
   "metadata": {
    "colab": {},
    "colab_type": "code",
    "id": "r8aPhJwdrC1U"
   },
   "outputs": [
    {
     "data": {
      "image/png": "[encoded data removed]",
      "text/plain": [
       "<Figure size 432x288 with 1 Axes>"
      ]
     },
     "metadata": {
      "needs_background": "light"
     },
     "output_type": "display_data"
    },
    {
     "data": {
      "image/png": "[encoded data removed]",
      "text/plain": [
       "<Figure size 432x288 with 1 Axes>"
      ]
     },
     "metadata": {
      "needs_background": "light"
     },
     "output_type": "display_data"
    }
   ],
   "source": [
    "#Write code here\n",
    "# fig, ax= plt.subplots(ncols=1,figsize=(10,5))\n",
    "sns.boxplot(x=\"Income\", data=cust, color=\"red\")\n",
    "plt.show()\n",
    "sns.boxplot(\"Card Debt\", data=cust)\n",
    "plt.show()\n",
    "\n"
   ]
  },
  {
   "cell_type": "markdown",
   "metadata": {},
   "source": [
    "For Income: The 75th percentile is close to 100, above 50. The 25th percentile is less than 50, closer to 0.\n",
    "    We can see a few outliers already by looking at the maximum values shown by the boxplots.\n",
    "    \n",
    "Similarly, for values closer to 0 we have the 25th percentile, and the 75th percentile is around 2. Again,\n",
    "    the values towards the far right seem like outliers. "
   ]
  },
  {
   "cell_type": "markdown",
   "metadata": {
    "colab_type": "text",
    "id": "9bO5J9CXJTnD"
   },
   "source": [
    "### **Scatter-plot**"
   ]
  },
  {
   "cell_type": "markdown",
   "metadata": {
    "colab_type": "text",
    "id": "gX96KifMxHve"
   },
   "source": [
    "Plot scatter-plot for **Income Vs DebtIncomeRatio**. Comment if it shows any outliers. Use matplotlib.pyplot library for scatter-plot."
   ]
  },
  {
   "cell_type": "code",
   "execution_count": 35,
   "metadata": {
    "colab": {},
    "colab_type": "code",
    "id": "yhP4eH0yyG6Y"
   },
   "outputs": [
    {
     "data": {
      "image/png": "[encoded data removed]",
      "text/plain": [
       "<Figure size 432x288 with 1 Axes>"
      ]
     },
     "metadata": {
      "needs_background": "light"
     },
     "output_type": "display_data"
    }
   ],
   "source": [
    "#Write code here\n",
    "plt.scatter(cust[\"DebtIncomeRatio\"], cust[\"Income\"])\n",
    "plt.ylabel(\"Income\")\n",
    "plt.xlabel(\"DebtIncomeRatio\")\n",
    "plt.title(\"Income vs DebtIncomeRatio Plot\")\n",
    "plt.show()\n"
   ]
  },
  {
   "cell_type": "markdown",
   "metadata": {},
   "source": [
    "We see a few outliers here. Most of the data is packed together but there are outliers where income is very high but the\n",
    "DebtIncomeRatio is very low. Similarly, we have a moderate income level with a very high (maximum value) for DebtIncomeRation.\n",
    "DebtIncomeRatio is basically the amount of debt you owe per month relative to your income, so logically the higher your income, the lower the debt ratio\n",
    "but for some values we don't see this trend."
   ]
  },
  {
   "cell_type": "markdown",
   "metadata": {
    "colab_type": "text",
    "id": "A4yCJZQjJatJ"
   },
   "source": [
    "### **Z_score**"
   ]
  },
  {
   "cell_type": "markdown",
   "metadata": {
    "colab_type": "text",
    "id": "crJ1LyvTynP3"
   },
   "source": [
    "Z-score tells how many standard deviations is a certain data point away from the mean. For **Age,Other_Debt and DebtIncomeRatio**, output the list of values that are identified as outliers on the basis of their z-scores."
   ]
  },
  {
   "cell_type": "code",
   "execution_count": 96,
   "metadata": {
    "colab": {},
    "colab_type": "code",
    "id": "ie5KpqAU0Dfe"
   },
   "outputs": [
    {
     "name": "stdout",
     "output_type": "stream",
     "text": [
      "Outlier Values for Age: 0\n",
      "\n",
      "\n",
      "Outlier Values for Other Debt: 15\n",
      "\n",
      "18.257\n",
      "14.453\n",
      "15.405\n",
      "23.104\n",
      "20.616\n",
      "17.185\n",
      "13.050999999999998\n",
      "15.149000000000001\n",
      "17.799\n",
      "18.269000000000002\n",
      "14.719000000000001\n",
      "17.204\n",
      "12.959000000000001\n",
      "16.668\n",
      "27.034000000000002\n",
      "\n",
      "Outlier Values for DebtIncomeRatio: 7\n",
      "\n",
      "32.5\n",
      "41.3\n",
      "35.3\n",
      "33.3\n",
      "36.6\n",
      "30.8\n",
      "33.4\n",
      "\n"
     ]
    }
   ],
   "source": [
    "from scipy.stats import zscore\n",
    "#Write code here\n",
    "def find_outliers(zscores, colname):\n",
    "    outliers_ind=[i for i in range(len(zscores)) if zscores[i]<-3 or zscores[i]>3]\n",
    "    outliers= np.array(cust[colname])[outliers_ind]\n",
    "    print(f\"Outlier Values for {colname}: {len(outliers)}\\n\")\n",
    "    for outlier in outliers: print(outlier)\n",
    "    print()\n",
    "    \n",
    "    return outliers, outliers_ind\n",
    "    \n",
    "    \n",
    "age_Z_score=zscore(cust[\"Age\"])\n",
    "other_debt_Z_score=zscore(cust[\"Other Debt\"])\n",
    "DebtIncomeRatio_Z_score=zscore(cust[\"DebtIncomeRatio\"])\n",
    "\n",
    "\n",
    "age_outliers= [i for i in range(len(age_Z_score)) if age_Z_score[i]<-3 or age_Z_score[i]>3]\n",
    "ag1, ag2= find_outliers(age_Z_score,\"Age\")\n",
    "other_debt_outliers, _= find_outliers(other_debt_Z_score,\"Other Debt\")\n",
    "DebtIncomeRatio_outliers, _= find_outliers(DebtIncomeRatio_Z_score, \"DebtIncomeRatio\")\n"
   ]
  },
  {
   "cell_type": "markdown",
   "metadata": {
    "colab_type": "text",
    "id": "xCP3luCKmgZg"
   },
   "source": [
    "* **What z-score threshold did you use to detect the outliers and why?**\n",
    "\n",
    "3. The Z-score standardizes our data and removes any scale from it, the data then follows a distribution where the mean is 0 and standard deviation is 1. 99.7% of the data can typically be found within 3 standard devs of the mean i.e.  -3<x<3 so any point beyond these limits can be classified as an outlier."
   ]
  },
  {
   "cell_type": "markdown",
   "metadata": {
    "colab_type": "text",
    "id": "HqkWK081Jrwe"
   },
   "source": [
    "### ***IQR***"
   ]
  },
  {
   "cell_type": "markdown",
   "metadata": {
    "colab_type": "text",
    "id": "LIRiVGL80t1d"
   },
   "source": [
    "For **Age,Other_Debt and DebtIncomeRatio**, output the list of values that are identified as outliers on the basis of their IQR values."
   ]
  },
  {
   "cell_type": "markdown",
   "metadata": {
    "colab_type": "text",
    "id": "ygYxJtRoHHAp"
   },
   "source": [
    "For this, calculate the first (q1) and third quartile (q3). An outlier is then a data point  that lies outside the interquartile range. That is:\n",
    "*   *Lower outlier= Q1 - (k x IQR)*\n",
    "*   *Higher outlier= Q3 + (k x IQR)*\n",
    "\n",
    "Choose an appropriate 'k' for this part."
   ]
  },
  {
   "cell_type": "code",
   "execution_count": 95,
   "metadata": {
    "colab": {},
    "colab_type": "code",
    "id": "tHF2m8HAtbaP"
   },
   "outputs": [
    {
     "name": "stdout",
     "output_type": "stream",
     "text": [
      "No outliers for Age\n",
      "\n",
      "Outliers for Other Debt: 48\n",
      "\n",
      "  8.908\n",
      " 18.257\n",
      " 10.184\n",
      "  9.555\n",
      "  9.459\n",
      " 10.754\n",
      " 14.453\n",
      " 15.405\n",
      " 11.874\n",
      "  9.251\n",
      " 12.076\n",
      " 23.104\n",
      "  8.600\n",
      "  9.044\n",
      "  9.737\n",
      " 11.894\n",
      " 20.616\n",
      " 11.724\n",
      " 11.042\n",
      " 17.185\n",
      " 13.051\n",
      " 12.659\n",
      "  9.591\n",
      "  8.502\n",
      " 15.149\n",
      " 17.799\n",
      " 18.269\n",
      "  9.391\n",
      " 12.714\n",
      " 14.719\n",
      " 17.204\n",
      " 12.959\n",
      "  8.399\n",
      " 16.668\n",
      " 27.034\n",
      "  9.704\n",
      "  9.716\n",
      "  9.499\n",
      " 11.663\n",
      " 12.422\n",
      " 10.980\n",
      " 10.631\n",
      "  9.975\n",
      " 10.811\n",
      "  9.198\n",
      "  8.631\n",
      "  9.286\n",
      "  8.362\n",
      "\n",
      "Outliers for DebtIncomeRatio: 14\n",
      "\n",
      " 32.5\n",
      " 29.7\n",
      " 30.1\n",
      " 28.9\n",
      " 28.5\n",
      " 30.7\n",
      " 28.9\n",
      " 41.3\n",
      " 30.6\n",
      " 35.3\n",
      " 33.3\n",
      " 36.6\n",
      " 30.8\n",
      " 33.4\n",
      "\n"
     ]
    }
   ],
   "source": [
    "#Write code here\n",
    "\n",
    "def find_outlier_iqr(colname):\n",
    "    iqr= stats.iqr(cust[colname])\n",
    "    Q1=cust[colname].quantile(.25)\n",
    "    Q3=cust[colname].quantile(.75)\n",
    "    outliers= cust[ (cust[colname]<Q1- 1.5*iqr) | (cust[colname]>Q3+1.5*iqr)][colname]\n",
    "    if len(outliers)==0:\n",
    "        print(f\"No outliers for {colname}\\n\")\n",
    "    else:\n",
    "        print(f\"Outliers for {colname}: {len(outliers)}\\n\")\n",
    "        print(outliers.to_string(index=False))\n",
    "        print()\n",
    "\n",
    "\n",
    "find_outlier_iqr(\"Age\")\n",
    "find_outlier_iqr(\"Other Debt\")\n",
    "find_outlier_iqr(\"DebtIncomeRatio\")\n",
    "\n"
   ]
  },
  {
   "cell_type": "markdown",
   "metadata": {
    "colab_type": "text",
    "id": "jTAVLNH7mjhS"
   },
   "source": [
    "* **What k-value did you use to detect the outliers and why?**\n",
    "I used k=1.5 because if we look at a normal distribution, then the standard deviation is Q3-Q1. \n",
    "99.7% of the data lies within 3 standard deviations from the mean, the rest can be considered outliers i.e. if the data lies to the left of -3 deviations from the mean or to the right of 3 deviations from the mean, then it can be considered an outlier. So, choosing k=1.5 actually gets us very close to this value of 3 that has been standardized for detecting outliers.\n",
    "IQR= Q3-Q1= std. dev (as described above)=ro\n",
    "lower bound= Q1-1.5*IQR\n",
    "upper bound= Q3+1.5*IQR\n",
    "Q1= -0.675ro, Q3= 0.675ro\n",
    "lower= -0.675ro - 1.5(0.675ro -(-0.675))= -2.7ro\n",
    "upper= 0.675ro -1.5(0.675ro - (-0.675))= 2.7ro\n",
    "\n",
    "so using k=1.5 we get very close to the desired value of 3 which is why I used it. "
   ]
  },
  {
   "cell_type": "markdown",
   "metadata": {
    "colab_type": "text",
    "id": "DbEczKcvmtyJ"
   },
   "source": [
    "* **Which parameter (IQR or Z-score) is better outlier detection? Give reason.**\n",
    "\n",
    "There is no one superior method for outlier detection, both have their own use cases. It largely depends on the nature of the data. In the plots below we see the distributions of each of our variables and they follow a normal-like distribution and from the visualization we see that our outliers fall in 0.03% of the overall data i.e. they fall outside of 3 devs of the mean. Therefore, the Z-score method works better and it reports lesser number of outliers for this very reason because we use a Z-score value of 3 whereas the IQR method gets approximately close to this 3 deviations value but not actually 3. Z-score also standardizes the data. Overall, for this dataset Z-score is a better method for outlier detection"
   ]
  },
  {
   "cell_type": "code",
   "execution_count": 108,
   "metadata": {},
   "outputs": [
    {
     "data": {
      "image/png": "[encoded data removed]",
      "text/plain": [
       "<Figure size 432x288 with 1 Axes>"
      ]
     },
     "metadata": {
      "needs_background": "light"
     },
     "output_type": "display_data"
    },
    {
     "data": {
      "image/png": "[encoded data removed]",
      "text/plain": [
       "<Figure size 432x288 with 1 Axes>"
      ]
     },
     "metadata": {
      "needs_background": "light"
     },
     "output_type": "display_data"
    },
    {
     "data": {
      "image/png": "[encoded data removed]",
      "text/plain": [
       "<Figure size 432x288 with 1 Axes>"
      ]
     },
     "metadata": {
      "needs_background": "light"
     },
     "output_type": "display_data"
    }
   ],
   "source": [
    "sns.distplot(cust['Age'])\n",
    "plt.show()\n",
    "sns.distplot(cust['Other Debt'])\n",
    "plt.show()\n",
    "sns.distplot(cust['DebtIncomeRatio'])\n",
    "plt.show()"
   ]
  },
  {
   "cell_type": "markdown",
   "metadata": {
    "colab_type": "text",
    "id": "7xOHd8wbakME"
   },
   "source": [
    "### **Outlier Detection using LOC (Local Outlier Factor)**"
   ]
  },
  {
   "cell_type": "markdown",
   "metadata": {
    "colab_type": "text",
    "id": "QHnyjQFfaz_g"
   },
   "source": [
    "LOF uses density-based outlier detection to identify local outliers. An anomaly score is assigned to each sample which measures the local deviation of density of a this sample with respect to its neighbors. \n",
    "\n"
   ]
  },
  {
   "cell_type": "markdown",
   "metadata": {
    "colab_type": "text",
    "id": "evwRFDLSf9g2"
   },
   "source": [
    "**1.** Tranform the features by scaling them to a \n",
    "given range(e.g. 0-1):"
   ]
  },
  {
   "cell_type": "code",
   "execution_count": 220,
   "metadata": {
    "colab": {},
    "colab_type": "code",
    "id": "YHiU8lzOKtZ7"
   },
   "outputs": [],
   "source": [
    "from sklearn.preprocessing import MinMaxScaler\n",
    "#Write your code here\n",
    "subset=cust[[\"Income\",\"Other Debt\"]]\n",
    "scaled_data=MinMaxScaler().fit_transform(subset)\n"
   ]
  },
  {
   "cell_type": "markdown",
   "metadata": {
    "colab_type": "text",
    "id": "MeMWZNKxsNKb"
   },
   "source": [
    "**2.** Implement LOC algorithm using sklearn. Choose the parameters that will be passed into the function: "
   ]
  },
  {
   "cell_type": "code",
   "execution_count": 221,
   "metadata": {
    "colab": {},
    "colab_type": "code",
    "id": "BQNW1MRe5tdq"
   },
   "outputs": [
    {
     "name": "stdout",
     "output_type": "stream",
     "text": [
      "Outliers 25\n"
     ]
    }
   ],
   "source": [
    "#Write your code here   \n",
    "lof= LocalOutlierFactor(n_neighbors=24, contamination=\"auto\")\n",
    "outliers=lof.fit_predict(scaled_data)\n",
    "num_outliers=len([outlier for outlier in outliers if outlier==-1])\n",
    "print(\"Outliers\",num_outliers)\n"
   ]
  },
  {
   "cell_type": "markdown",
   "metadata": {
    "colab_type": "text",
    "id": "rLQ5JB3rtsLq"
   },
   "source": [
    "Run LOC algorithm multiple times with different values for the '**n_neighbors** 'paramater. "
   ]
  },
  {
   "cell_type": "code",
   "execution_count": 222,
   "metadata": {
    "colab": {},
    "colab_type": "code",
    "id": "G0RxfpmBuFkU"
   },
   "outputs": [
    {
     "data": {
      "image/png": "[encoded data removed]",
      "text/plain": [
       "<Figure size 432x288 with 1 Axes>"
      ]
     },
     "metadata": {
      "needs_background": "light"
     },
     "output_type": "display_data"
    }
   ],
   "source": [
    "n_values=[i for i in range(10,len(subset))]\n",
    "n_outliers=[]\n",
    "for i in range(10,len(subset)):\n",
    "    lof_i=LocalOutlierFactor(n_neighbors=i, contamination='auto')\n",
    "    outliers_i=lof_i.fit_predict(scaled_data)\n",
    "    num_outliers_i=np.count_nonzero(outliers_i==-1)\n",
    "    n_outliers.append(num_outliers_i)\n",
    " \n",
    "plt.plot(n_values,n_outliers)\n",
    "plt.title(\"Outliers vs n_neighbors\")\n",
    "plt.xlabel(\"n_neighbors\")\n",
    "plt.ylabel(\"Number of Outliers\")\n",
    "plt.show()"
   ]
  },
  {
   "cell_type": "code",
   "execution_count": 223,
   "metadata": {},
   "outputs": [
    {
     "name": "stdout",
     "output_type": "stream",
     "text": [
      "n_neighbors= 10\n",
      "Number of Outliers: 11\n",
      "n_neighbors= 11\n",
      "Number of Outliers: 10\n",
      "n_neighbors= 12\n",
      "Number of Outliers: 10\n",
      "n_neighbors= 13\n",
      "Number of Outliers: 12\n",
      "n_neighbors= 14\n",
      "Number of Outliers: 11\n",
      "n_neighbors= 15\n",
      "Number of Outliers: 13\n",
      "n_neighbors= 16\n",
      "Number of Outliers: 13\n",
      "n_neighbors= 17\n",
      "Number of Outliers: 14\n",
      "n_neighbors= 18\n",
      "Number of Outliers: 14\n",
      "n_neighbors= 19\n",
      "Number of Outliers: 15\n",
      "n_neighbors= 20\n",
      "Number of Outliers: 19\n",
      "n_neighbors= 21\n",
      "Number of Outliers: 19\n",
      "n_neighbors= 22\n",
      "Number of Outliers: 21\n",
      "n_neighbors= 23\n",
      "Number of Outliers: 25\n",
      "n_neighbors= 24\n",
      "Number of Outliers: 25\n",
      "n_neighbors= 25\n",
      "Number of Outliers: 28\n",
      "n_neighbors= 26\n",
      "Number of Outliers: 30\n",
      "n_neighbors= 27\n",
      "Number of Outliers: 30\n",
      "n_neighbors= 28\n",
      "Number of Outliers: 31\n",
      "n_neighbors= 29\n",
      "Number of Outliers: 32\n",
      "n_neighbors= 30\n",
      "Number of Outliers: 33\n",
      "n_neighbors= 31\n",
      "Number of Outliers: 34\n",
      "n_neighbors= 32\n",
      "Number of Outliers: 35\n",
      "n_neighbors= 33\n",
      "Number of Outliers: 35\n",
      "n_neighbors= 34\n",
      "Number of Outliers: 35\n",
      "n_neighbors= 35\n",
      "Number of Outliers: 35\n",
      "n_neighbors= 36\n",
      "Number of Outliers: 37\n",
      "n_neighbors= 37\n",
      "Number of Outliers: 38\n",
      "n_neighbors= 38\n",
      "Number of Outliers: 39\n",
      "n_neighbors= 39\n",
      "Number of Outliers: 40\n",
      "n_neighbors= 40\n",
      "Number of Outliers: 41\n",
      "n_neighbors= 41\n",
      "Number of Outliers: 42\n",
      "n_neighbors= 42\n",
      "Number of Outliers: 41\n",
      "n_neighbors= 43\n",
      "Number of Outliers: 43\n",
      "n_neighbors= 44\n",
      "Number of Outliers: 43\n",
      "n_neighbors= 45\n",
      "Number of Outliers: 43\n",
      "n_neighbors= 46\n",
      "Number of Outliers: 43\n",
      "n_neighbors= 47\n",
      "Number of Outliers: 43\n",
      "n_neighbors= 48\n",
      "Number of Outliers: 44\n",
      "n_neighbors= 49\n",
      "Number of Outliers: 45\n"
     ]
    }
   ],
   "source": [
    "for i in range(10,50):\n",
    "    print(\"n_neighbors=\", i)\n",
    "    lof_i=LocalOutlierFactor(n_neighbors=i, contamination='auto')\n",
    "    outliers_i=lof_i.fit_predict(scaled_data)\n",
    "    num_outliers_i=np.count_nonzero(outliers_i==-1)\n",
    "    print(f\"Number of Outliers: {num_outliers_i}\")\n"
   ]
  },
  {
   "cell_type": "markdown",
   "metadata": {
    "colab_type": "text",
    "id": "LFa-qAleuGPJ"
   },
   "source": [
    "* **How did the results of LOC alogrithm vary by changing the value of 'n_neighbors'? What parameter value you ended up choosing and why?**\n",
    "\n",
    "For this dataset, we see that the LOF algorithm first returns an increasing number of outliers for the values of 10-300 or so for n_neighbors. After that, it reaches its maximum point and starts to decline. This could be due to many reasons, depending on the nature of the dataset. Since it's a density-based approach, and we compare a point's density with the density of n neighbors, that's why the results will vary. <br>\n",
    "\n",
    "  `n_neighbors=24`<br>\n",
    "\n",
    "When choosing the number of neighbors, we usually take this value to be greater than the minimum number of points required to be in a cluster. In the paper for LOF, the min value of k was advised to be taken as 10, so I plotted my loop like that. Secondly, n_neighbors must be smaller than the maximum number of close samples that could potentially be outliers. However, we usually don't have this information, so we usually go from 10-n_samples and see which number of outliers seem appropriate for the dataset. \n",
    "Generally, taking 20 to be the value works well, and in our case n_neighbors=24 gives us a reasonable number of outliers"
   ]
  },
  {
   "cell_type": "markdown",
   "metadata": {
    "colab_type": "text",
    "id": "ojEOSRUOh1YM"
   },
   "source": [
    "**3.** Visualize the results using this function. You may also implement your own visualization function."
   ]
  },
  {
   "cell_type": "code",
   "execution_count": 224,
   "metadata": {
    "colab": {},
    "colab_type": "code",
    "id": "c2MZICNChvJm"
   },
   "outputs": [
    {
     "data": {
      "image/png": "[encoded data removed]",
      "text/plain": [
       "<Figure size 1080x1080 with 1 Axes>"
      ]
     },
     "metadata": {
      "needs_background": "light"
     },
     "output_type": "display_data"
    }
   ],
   "source": [
    "fig = plt.figure(figsize=(15,15))\n",
    "X=subset\n",
    "def plot_model(labels, alg_name):\n",
    "    ax = fig.add_subplot(3,2,1) \n",
    "    color_code = {'anomaly':'red', 'normal':'green'}\n",
    "    color_code={-1:'red', 1:'green'}\n",
    "    colors = [color_code[x] for x in labels]\n",
    "\n",
    "    ax.scatter(X.iloc[:,0], X.iloc[:,1], color=colors, marker='.', label='red = anomaly')\n",
    "    ax.legend(loc=\"lower right\")\n",
    "\n",
    "    leg = plt.gca().get_legend()\n",
    "    leg.legendHandles[0].set_color('red')\n",
    "\n",
    "    ax.set_title(alg_name)\n",
    "\n",
    "labels=outliers\n",
    "plot_model(labels, 'LocalOutlierFactor')\n"
   ]
  },
  {
   "cell_type": "markdown",
   "metadata": {
    "colab_type": "text",
    "id": "PqiOZMUFOBfX"
   },
   "source": [
    "### **Isolation Forest**"
   ]
  },
  {
   "cell_type": "markdown",
   "metadata": {
    "colab_type": "text",
    "id": "dPcU1luqi2wj"
   },
   "source": [
    "Isolation Forest is an outlier detection algoritm that is based on the Decision Trees. It spearates the outliers by randomly selecting a certain attribute and then randomly selecting a split value between the max and min values of this feature."
   ]
  },
  {
   "cell_type": "markdown",
   "metadata": {
    "colab_type": "text",
    "id": "wQS5ooU3jyqx"
   },
   "source": [
    "**1.** Implement Isolation Forest algorithm using sklearn. Choose the parameters that will be passed into the function:"
   ]
  },
  {
   "cell_type": "code",
   "execution_count": 226,
   "metadata": {
    "colab": {},
    "colab_type": "code",
    "id": "JKh-LfcPjw9b"
   },
   "outputs": [
    {
     "data": {
      "text/plain": [
       "92"
      ]
     },
     "execution_count": 226,
     "metadata": {},
     "output_type": "execute_result"
    }
   ],
   "source": [
    "#Write your code here\n",
    "from sklearn.ensemble import IsolationForest\n",
    "clf= IsolationForest(max_samples=400, contamination='auto', behaviour=\"new\")\n",
    "labels=clf.fit_predict(scaled_data)\n",
    "n_outliers= len([outlier for outlier in labels if outlier==-1])\n",
    "n_outliers\n"
   ]
  },
  {
   "cell_type": "markdown",
   "metadata": {
    "colab_type": "text",
    "id": "46NBSUmAvixi"
   },
   "source": [
    "* **What value did you use for the 'max_samples'?**\n",
    "\n",
    "max_samples= 400 <br>\n",
    "When max_samples increases, the number of outliers decreases, and by visualization, we see that taking max_samples=400 returns a reasonable number of outliers and most of the closely-knit points are counted as inliers"
   ]
  },
  {
   "cell_type": "markdown",
   "metadata": {
    "colab_type": "text",
    "id": "pnLdNLFvj-x8"
   },
   "source": [
    "**2.** Visualize the results using this function. You may also implement your own visualization function."
   ]
  },
  {
   "cell_type": "code",
   "execution_count": 227,
   "metadata": {
    "colab": {},
    "colab_type": "code",
    "id": "3f5juLAyouRW"
   },
   "outputs": [
    {
     "data": {
      "image/png": "[encoded data removed]",
      "text/plain": [
       "<Figure size 1080x1080 with 1 Axes>"
      ]
     },
     "metadata": {
      "needs_background": "light"
     },
     "output_type": "display_data"
    }
   ],
   "source": [
    "fig = plt.figure(figsize=(15,15))\n",
    "plot_model(labels, 'Isolation Forest')"
   ]
  },
  {
   "cell_type": "markdown",
   "metadata": {
    "colab_type": "text",
    "id": "d9T0rfA3tKTD"
   },
   "source": [
    "* **Compare the results from both LOC and Isolation Forest:** \n",
    "\n"
   ]
  },
  {
   "cell_type": "markdown",
   "metadata": {
    "colab_type": "text",
    "id": "QpwHtN7iu6gN"
   },
   "source": [
    "*Comparison:*\n",
    "\n",
    "Isolation Forest returns a much higher number of clusters than LOF and for this dataset, we see that LOF works better because it works well for local outliers and we see here that most points are clustered together. However, it takes longer to run comparatively so there is that trade-off. \n",
    "\n",
    "Isolation Forest works well in finding out global clusters and we can see that in the visualization. \n"
   ]
  }
 ],
 "metadata": {
  "colab": {
   "collapsed_sections": [],
   "name": "Outlier_detection_question.ipynb",
   "provenance": []
  },
  "kernelspec": {
   "display_name": "Python 3",
   "language": "python",
   "name": "python3"
  },
  "language_info": {
   "codemirror_mode": {
    "name": "ipython",
    "version": 3
   },
   "file_extension": ".py",
   "mimetype": "text/x-python",
   "name": "python",
   "nbconvert_exporter": "python",
   "pygments_lexer": "ipython3",
   "version": "3.7.3"
  }
 },
 "nbformat": 4,
 "nbformat_minor": 1
}
