{
 "cells": [
  {
   "cell_type": "markdown",
   "metadata": {
    "colab_type": "text",
    "id": "eaiad9bsntmD"
   },
   "source": [
    "## Q3) Outlier Detection\n",
    "Outlier detection (also known as '*anomaly detection*') is the process of finding observation points that are very distant from other observations. Such observation points are called outliers or anomalies. In this question,  you will employ simple visualization and statistical techniques to find the outliers and then, you will apply  outlier detection algorithms. \n",
    "\n",
    "You will be using the same **\"customer_segemntation\"** dataset that was used in the Q1. \n"
   ]
  },
  {
   "cell_type": "code",
   "execution_count": 0,
   "metadata": {
    "colab": {},
    "colab_type": "code",
    "id": "Q3vlwXnJoVrg"
   },
   "outputs": [],
   "source": [
    "import seaborn as sns\n",
    "import numpy as np\n",
    "import pandas as pd\n",
    "import matplotlib.pyplot as plt\n",
    "from scipy import stats\n",
    "from scipy.cluster.vq import kmeans\n",
    "from sklearn.neighbors import LocalOutlierFactor\n",
    "from sklearn.cluster import DBSCAN\n",
    "from matplotlib import cm"
   ]
  },
  {
   "cell_type": "code",
   "execution_count": 0,
   "metadata": {
    "colab": {},
    "colab_type": "code",
    "id": "E_CgA0HZo1dv"
   },
   "outputs": [],
   "source": [
    "#loading the dataset\n",
    "cust_df = pd.read_csv(\"/content/drive/My Drive/Data Mining Assignment/customer_segmentation.csv\")\n",
    "cust_df.head()"
   ]
  },
  {
   "cell_type": "code",
   "execution_count": 0,
   "metadata": {
    "colab": {},
    "colab_type": "code",
    "id": "XOAg1gItr1h0"
   },
   "outputs": [],
   "source": [
    "cust = cust_df.copy()\n",
    "cust = cust.dropna()\n",
    "# print(cust.columns)"
   ]
  },
  {
   "cell_type": "markdown",
   "metadata": {
    "colab_type": "text",
    "id": "0W4VX5MNeg9q"
   },
   "source": [
    "### **Box-Plots**"
   ]
  },
  {
   "cell_type": "markdown",
   "metadata": {
    "colab_type": "text",
    "id": "Mz79KJOEvMjg"
   },
   "source": [
    "Plot box-plots for \"**Income**\" and \"**Card Debt**\" attributes and comment on the results. "
   ]
  },
  {
   "cell_type": "code",
   "execution_count": 0,
   "metadata": {
    "colab": {},
    "colab_type": "code",
    "id": "r8aPhJwdrC1U"
   },
   "outputs": [],
   "source": [
    "#Write code here"
   ]
  },
  {
   "cell_type": "markdown",
   "metadata": {
    "colab_type": "text",
    "id": "9bO5J9CXJTnD"
   },
   "source": [
    "### **Scatter-plot**"
   ]
  },
  {
   "cell_type": "markdown",
   "metadata": {
    "colab_type": "text",
    "id": "gX96KifMxHve"
   },
   "source": [
    "Plot scatter-plot for **Income Vs DebtIncomeRatio**. Comment if it shows any outliers. Use matplotlib.pyplot library for scatter-plot."
   ]
  },
  {
   "cell_type": "code",
   "execution_count": 0,
   "metadata": {
    "colab": {},
    "colab_type": "code",
    "id": "yhP4eH0yyG6Y"
   },
   "outputs": [],
   "source": [
    "#Write code here"
   ]
  },
  {
   "cell_type": "markdown",
   "metadata": {
    "colab_type": "text",
    "id": "A4yCJZQjJatJ"
   },
   "source": [
    "### **Z_score**"
   ]
  },
  {
   "cell_type": "markdown",
   "metadata": {
    "colab_type": "text",
    "id": "crJ1LyvTynP3"
   },
   "source": [
    "Z-score tells how many standard deviations is a certain data point away from the mean. For **Age,Other_Debt and DebtIncomeRatio**, output the list of values that are identified as outliers on the basis of their z-scores."
   ]
  },
  {
   "cell_type": "code",
   "execution_count": 0,
   "metadata": {
    "colab": {},
    "colab_type": "code",
    "id": "ie5KpqAU0Dfe"
   },
   "outputs": [],
   "source": [
    "from scipy.stats import zscore\n",
    "#Write code here"
   ]
  },
  {
   "cell_type": "markdown",
   "metadata": {
    "colab_type": "text",
    "id": "xCP3luCKmgZg"
   },
   "source": [
    "* **What z-score threshold did you use to detect the outliers and why?**"
   ]
  },
  {
   "cell_type": "markdown",
   "metadata": {
    "colab_type": "text",
    "id": "HqkWK081Jrwe"
   },
   "source": [
    "### ***IQR***"
   ]
  },
  {
   "cell_type": "markdown",
   "metadata": {
    "colab_type": "text",
    "id": "LIRiVGL80t1d"
   },
   "source": [
    "For **Age,Other_Debt and DebtIncomeRatio**, output the list of values that are identified as outliers on the basis of their IQR values."
   ]
  },
  {
   "cell_type": "markdown",
   "metadata": {
    "colab_type": "text",
    "id": "ygYxJtRoHHAp"
   },
   "source": [
    "For this, calculate the first (q1) and third quartile (q3). An outlier is then a data point  that lies outside the interquartile range. That is:\n",
    "*   *Lower outlier= Q1 - (k x IQR)*\n",
    "*   *Higher outlier= Q3 + (k x IQR)*\n",
    "\n",
    "Choose an appropriate 'k' for this part."
   ]
  },
  {
   "cell_type": "code",
   "execution_count": 0,
   "metadata": {
    "colab": {},
    "colab_type": "code",
    "id": "tHF2m8HAtbaP"
   },
   "outputs": [],
   "source": [
    "#Write code here"
   ]
  },
  {
   "cell_type": "markdown",
   "metadata": {
    "colab_type": "text",
    "id": "jTAVLNH7mjhS"
   },
   "source": [
    "* **What k-value did you use to detect the outliers and why?**"
   ]
  },
  {
   "cell_type": "markdown",
   "metadata": {
    "colab_type": "text",
    "id": "DbEczKcvmtyJ"
   },
   "source": [
    "* **Which parameter (IQR or Z-score) is better outlier detection? Give reason.**"
   ]
  },
  {
   "cell_type": "markdown",
   "metadata": {
    "colab_type": "text",
    "id": "7xOHd8wbakME"
   },
   "source": [
    "### **Outlier Detection using LOC (Local Outlier Factor)**"
   ]
  },
  {
   "cell_type": "markdown",
   "metadata": {
    "colab_type": "text",
    "id": "QHnyjQFfaz_g"
   },
   "source": [
    "LOF uses density-based outlier detection to identify local outliers. An anomaly score is assigned to each sample which measures the local deviation of density of a this sample with respect to its neighbors. \n"
   ]
  },
  {
   "cell_type": "markdown",
   "metadata": {
    "colab_type": "text",
    "id": "evwRFDLSf9g2"
   },
   "source": [
    "**1.** Tranform the features by scaling them to a \n",
    "given range(e.g. 0-1):"
   ]
  },
  {
   "cell_type": "code",
   "execution_count": 0,
   "metadata": {
    "colab": {},
    "colab_type": "code",
    "id": "YHiU8lzOKtZ7"
   },
   "outputs": [],
   "source": [
    "from sklearn.preprocessing import MinMaxScaler\n",
    "#Write your code here"
   ]
  },
  {
   "cell_type": "markdown",
   "metadata": {
    "colab_type": "text",
    "id": "MeMWZNKxsNKb"
   },
   "source": [
    "**2.** Implement LOC algorithm using sklearn. Choose the parameters that will be passed into the function:"
   ]
  },
  {
   "cell_type": "code",
   "execution_count": 0,
   "metadata": {
    "colab": {},
    "colab_type": "code",
    "id": "BQNW1MRe5tdq"
   },
   "outputs": [],
   "source": [
    "#Write your code here   "
   ]
  },
  {
   "cell_type": "markdown",
   "metadata": {
    "colab_type": "text",
    "id": "rLQ5JB3rtsLq"
   },
   "source": [
    "Run LOC algorithm multiple times with different values for the '**n_neighbors** 'paramater. "
   ]
  },
  {
   "cell_type": "code",
   "execution_count": 0,
   "metadata": {
    "colab": {},
    "colab_type": "code",
    "id": "G0RxfpmBuFkU"
   },
   "outputs": [],
   "source": []
  },
  {
   "cell_type": "markdown",
   "metadata": {
    "colab_type": "text",
    "id": "LFa-qAleuGPJ"
   },
   "source": [
    "* **How did the results of LOC alogrithm vary by changing the value of 'n_neighbors'? What parameter value you ended up choosing and why?**"
   ]
  },
  {
   "cell_type": "markdown",
   "metadata": {
    "colab_type": "text",
    "id": "ojEOSRUOh1YM"
   },
   "source": [
    "**3.** Visualize the results using this function. You may also implement your own visualization function."
   ]
  },
  {
   "cell_type": "code",
   "execution_count": 0,
   "metadata": {
    "colab": {},
    "colab_type": "code",
    "id": "c2MZICNChvJm"
   },
   "outputs": [],
   "source": [
    "fig = plt.figure(figsize=(15,15))\n",
    "def plot_model(labels, alg_name):\n",
    "    ax = fig.add_subplot(3,2,1) \n",
    "    color_code = {'anomaly':'red', 'normal':'green'}\n",
    "    colors = [color_code[x] for x in labels]\n",
    "\n",
    "    ax.scatter(X.iloc[:,0], X.iloc[:,1], color=colors, marker='.', label='red = anomaly')\n",
    "    ax.legend(loc=\"lower right\")\n",
    "\n",
    "    leg = plt.gca().get_legend()\n",
    "    leg.legendHandles[0].set_color('red')\n",
    "\n",
    "    ax.set_title(alg_name)\n",
    "\n",
    "# plot_model(labels, 'LocalOutlierFactor')\n"
   ]
  },
  {
   "cell_type": "markdown",
   "metadata": {
    "colab_type": "text",
    "id": "PqiOZMUFOBfX"
   },
   "source": [
    "### **Isolation Forest**"
   ]
  },
  {
   "cell_type": "markdown",
   "metadata": {
    "colab_type": "text",
    "id": "dPcU1luqi2wj"
   },
   "source": [
    "Isolation Forest is an outlier detection algoritm that is based on the Decision Trees. It spearates the outliers by randomly selecting a certain attribute and then randomly selecting a split value between the max and min values of this feature."
   ]
  },
  {
   "cell_type": "markdown",
   "metadata": {
    "colab_type": "text",
    "id": "wQS5ooU3jyqx"
   },
   "source": [
    "**1.** Implement Isolation Forest algorithm using sklearn. Choose the parameters that will be passed into the function:"
   ]
  },
  {
   "cell_type": "code",
   "execution_count": 0,
   "metadata": {
    "colab": {},
    "colab_type": "code",
    "id": "JKh-LfcPjw9b"
   },
   "outputs": [],
   "source": [
    "#Write your code here"
   ]
  },
  {
   "cell_type": "markdown",
   "metadata": {
    "colab_type": "text",
    "id": "46NBSUmAvixi"
   },
   "source": [
    "* **What value did you use for the 'max_samples'?**"
   ]
  },
  {
   "cell_type": "markdown",
   "metadata": {
    "colab_type": "text",
    "id": "pnLdNLFvj-x8"
   },
   "source": [
    "**2.** Visualize the results using this function. You may also implement your own visualization function."
   ]
  },
  {
   "cell_type": "code",
   "execution_count": 0,
   "metadata": {
    "colab": {},
    "colab_type": "code",
    "id": "3f5juLAyouRW"
   },
   "outputs": [],
   "source": [
    "fig = plt.figure(figsize=(15,15))\n",
    "# plot_model(labels, 'Isolation Forest')"
   ]
  },
  {
   "cell_type": "markdown",
   "metadata": {
    "colab_type": "text",
    "id": "d9T0rfA3tKTD"
   },
   "source": [
    "* **Compare the results from both LOC and Isolation Forest:** \n",
    "\n"
   ]
  },
  {
   "cell_type": "markdown",
   "metadata": {
    "colab_type": "text",
    "id": "QpwHtN7iu6gN"
   },
   "source": [
    "*Comparison:*"
   ]
  }
 ],
 "metadata": {
  "colab": {
   "collapsed_sections": [],
   "name": "Outlier_detection_question.ipynb",
   "provenance": []
  },
  "kernelspec": {
   "display_name": "Python 3",
   "language": "python",
   "name": "python3"
  },
  "language_info": {
   "codemirror_mode": {
    "name": "ipython",
    "version": 3
   },
   "file_extension": ".py",
   "mimetype": "text/x-python",
   "name": "python",
   "nbconvert_exporter": "python",
   "pygments_lexer": "ipython3",
   "version": "3.7.4"
  }
 },
 "nbformat": 4,
 "nbformat_minor": 0
}
