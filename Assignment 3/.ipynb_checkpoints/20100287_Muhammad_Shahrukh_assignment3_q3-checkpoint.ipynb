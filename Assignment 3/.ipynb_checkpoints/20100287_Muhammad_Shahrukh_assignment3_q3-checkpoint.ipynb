{
 "cells": [
  {
   "cell_type": "markdown",
   "metadata": {
    "colab_type": "text",
    "id": "eaiad9bsntmD"
   },
   "source": [
    "## Q3) Outlier Detection\n",
    "Outlier detection (also known as '*anomaly detection*') is the process of finding observation points that are very distant from other observations. Such observation points are called outliers or anomalies. In this question,  you will employ simple visualization and statistical techniques to find the outliers and then, you will apply  outlier detection algorithms. \n",
    "\n",
    "You will be using the same **\"customer_segemntation\"** dataset that was used in the Q1. \n"
   ]
  },
  {
   "cell_type": "code",
   "execution_count": 1,
   "metadata": {
    "colab": {},
    "colab_type": "code",
    "id": "Q3vlwXnJoVrg"
   },
   "outputs": [],
   "source": [
    "import seaborn as sns\n",
    "import numpy as np\n",
    "import pandas as pd\n",
    "import matplotlib.pyplot as plt\n",
    "from scipy import stats\n",
    "from scipy.cluster.vq import kmeans\n",
    "from sklearn.neighbors import LocalOutlierFactor\n",
    "from sklearn.cluster import DBSCAN\n",
    "from matplotlib import cm"
   ]
  },
  {
   "cell_type": "code",
   "execution_count": 2,
   "metadata": {
    "colab": {},
    "colab_type": "code",
    "id": "E_CgA0HZo1dv"
   },
   "outputs": [
    {
     "data": {
      "text/html": [
       "<div>\n",
       "<style scoped>\n",
       "    .dataframe tbody tr th:only-of-type {\n",
       "        vertical-align: middle;\n",
       "    }\n",
       "\n",
       "    .dataframe tbody tr th {\n",
       "        vertical-align: top;\n",
       "    }\n",
       "\n",
       "    .dataframe thead th {\n",
       "        text-align: right;\n",
       "    }\n",
       "</style>\n",
       "<table border=\"1\" class=\"dataframe\">\n",
       "  <thead>\n",
       "    <tr style=\"text-align: right;\">\n",
       "      <th></th>\n",
       "      <th>Customer Id</th>\n",
       "      <th>Age</th>\n",
       "      <th>Edu</th>\n",
       "      <th>Years Employed</th>\n",
       "      <th>Income</th>\n",
       "      <th>Card Debt</th>\n",
       "      <th>Other Debt</th>\n",
       "      <th>Defaulted</th>\n",
       "      <th>Address</th>\n",
       "      <th>DebtIncomeRatio</th>\n",
       "    </tr>\n",
       "  </thead>\n",
       "  <tbody>\n",
       "    <tr>\n",
       "      <th>0</th>\n",
       "      <td>1</td>\n",
       "      <td>41</td>\n",
       "      <td>2</td>\n",
       "      <td>6</td>\n",
       "      <td>19</td>\n",
       "      <td>0.124</td>\n",
       "      <td>1.073</td>\n",
       "      <td>0.0</td>\n",
       "      <td>NBA001</td>\n",
       "      <td>6.3</td>\n",
       "    </tr>\n",
       "    <tr>\n",
       "      <th>1</th>\n",
       "      <td>2</td>\n",
       "      <td>47</td>\n",
       "      <td>1</td>\n",
       "      <td>26</td>\n",
       "      <td>100</td>\n",
       "      <td>4.582</td>\n",
       "      <td>8.218</td>\n",
       "      <td>0.0</td>\n",
       "      <td>NBA021</td>\n",
       "      <td>12.8</td>\n",
       "    </tr>\n",
       "    <tr>\n",
       "      <th>2</th>\n",
       "      <td>3</td>\n",
       "      <td>33</td>\n",
       "      <td>2</td>\n",
       "      <td>10</td>\n",
       "      <td>57</td>\n",
       "      <td>6.111</td>\n",
       "      <td>5.802</td>\n",
       "      <td>1.0</td>\n",
       "      <td>NBA013</td>\n",
       "      <td>20.9</td>\n",
       "    </tr>\n",
       "    <tr>\n",
       "      <th>3</th>\n",
       "      <td>4</td>\n",
       "      <td>29</td>\n",
       "      <td>2</td>\n",
       "      <td>4</td>\n",
       "      <td>19</td>\n",
       "      <td>0.681</td>\n",
       "      <td>0.516</td>\n",
       "      <td>0.0</td>\n",
       "      <td>NBA009</td>\n",
       "      <td>6.3</td>\n",
       "    </tr>\n",
       "    <tr>\n",
       "      <th>4</th>\n",
       "      <td>5</td>\n",
       "      <td>47</td>\n",
       "      <td>1</td>\n",
       "      <td>31</td>\n",
       "      <td>253</td>\n",
       "      <td>9.308</td>\n",
       "      <td>8.908</td>\n",
       "      <td>0.0</td>\n",
       "      <td>NBA008</td>\n",
       "      <td>7.2</td>\n",
       "    </tr>\n",
       "  </tbody>\n",
       "</table>\n",
       "</div>"
      ],
      "text/plain": [
       "   Customer Id  Age  Edu  Years Employed  Income  Card Debt  Other Debt  \\\n",
       "0            1   41    2               6      19      0.124       1.073   \n",
       "1            2   47    1              26     100      4.582       8.218   \n",
       "2            3   33    2              10      57      6.111       5.802   \n",
       "3            4   29    2               4      19      0.681       0.516   \n",
       "4            5   47    1              31     253      9.308       8.908   \n",
       "\n",
       "   Defaulted Address  DebtIncomeRatio  \n",
       "0        0.0  NBA001              6.3  \n",
       "1        0.0  NBA021             12.8  \n",
       "2        1.0  NBA013             20.9  \n",
       "3        0.0  NBA009              6.3  \n",
       "4        0.0  NBA008              7.2  "
      ]
     },
     "execution_count": 2,
     "metadata": {},
     "output_type": "execute_result"
    }
   ],
   "source": [
    "#loading the dataset\n",
    "cust_df = pd.read_csv(\"customer_segmentation.csv\")\n",
    "cust_df.head()"
   ]
  },
  {
   "cell_type": "code",
   "execution_count": 4,
   "metadata": {
    "colab": {},
    "colab_type": "code",
    "id": "XOAg1gItr1h0"
   },
   "outputs": [
    {
     "name": "stdout",
     "output_type": "stream",
     "text": [
      "Index(['Customer Id', 'Age', 'Edu', 'Years Employed', 'Income', 'Card Debt',\n",
      "       'Other Debt', 'Defaulted', 'Address', 'DebtIncomeRatio'],\n",
      "      dtype='object')\n"
     ]
    }
   ],
   "source": [
    "cust = cust_df.copy()\n",
    "cust = cust.dropna()\n",
    "print(cust.columns)"
   ]
  },
  {
   "cell_type": "markdown",
   "metadata": {
    "colab_type": "text",
    "id": "0W4VX5MNeg9q"
   },
   "source": [
    "### **Box-Plots**"
   ]
  },
  {
   "cell_type": "markdown",
   "metadata": {
    "colab_type": "text",
    "id": "Mz79KJOEvMjg"
   },
   "source": [
    "Plot box-plots for \"**Income**\" and \"**Card Debt**\" attributes and comment on the results. "
   ]
  },
  {
   "cell_type": "code",
   "execution_count": 34,
   "metadata": {
    "colab": {},
    "colab_type": "code",
    "id": "r8aPhJwdrC1U"
   },
   "outputs": [
    {
     "data": {
      "image/png": "[encoded data removed]",
      "text/plain": [
       "<Figure size 432x288 with 1 Axes>"
      ]
     },
     "metadata": {
      "needs_background": "light"
     },
     "output_type": "display_data"
    },
    {
     "data": {
      "image/png": "[encoded data removed]",
      "text/plain": [
       "<Figure size 432x288 with 1 Axes>"
      ]
     },
     "metadata": {
      "needs_background": "light"
     },
     "output_type": "display_data"
    }
   ],
   "source": [
    "#Write code here\n",
    "# fig, ax= plt.subplots(ncols=1,figsize=(10,5))\n",
    "sns.boxplot(x=\"Income\", data=cust, color=\"red\")\n",
    "plt.show()\n",
    "sns.boxplot(\"Card Debt\", data=cust)\n",
    "plt.show()\n",
    "\n"
   ]
  },
  {
   "cell_type": "markdown",
   "metadata": {
    "colab_type": "text",
    "id": "9bO5J9CXJTnD"
   },
   "source": [
    "### **Scatter-plot**"
   ]
  },
  {
   "cell_type": "markdown",
   "metadata": {
    "colab_type": "text",
    "id": "gX96KifMxHve"
   },
   "source": [
    "Plot scatter-plot for **Income Vs DebtIncomeRatio**. Comment if it shows any outliers. Use matplotlib.pyplot library for scatter-plot."
   ]
  },
  {
   "cell_type": "code",
   "execution_count": 35,
   "metadata": {
    "colab": {},
    "colab_type": "code",
    "id": "yhP4eH0yyG6Y"
   },
   "outputs": [
    {
     "data": {
      "image/png": "[encoded data removed]",
      "text/plain": [
       "<Figure size 432x288 with 1 Axes>"
      ]
     },
     "metadata": {
      "needs_background": "light"
     },
     "output_type": "display_data"
    }
   ],
   "source": [
    "#Write code here\n",
    "plt.scatter(cust[\"DebtIncomeRatio\"], cust[\"Income\"])\n",
    "plt.ylabel(\"Income\")\n",
    "plt.xlabel(\"DebtIncomeRatio\")\n",
    "plt.title(\"Income vs DebtIncomeRatio Plot\")\n",
    "plt.show()\n",
    "\n",
    "###\n",
    "# plt.scatter( cust[\"Income\"],cust[\"DebtIncomeRatio\"])\n",
    "# plt.xlabel(\"Income\")\n",
    "# plt.ylabel(\"DebtIncomeRatio\")\n",
    "# plt.title(\"Income vs DebtIncomeRatio Plot\")\n",
    "# plt.show()"
   ]
  },
  {
   "cell_type": "markdown",
   "metadata": {
    "colab_type": "text",
    "id": "A4yCJZQjJatJ"
   },
   "source": [
    "### **Z_score**"
   ]
  },
  {
   "cell_type": "markdown",
   "metadata": {
    "colab_type": "text",
    "id": "crJ1LyvTynP3"
   },
   "source": [
    "Z-score tells how many standard deviations is a certain data point away from the mean. For **Age,Other_Debt and DebtIncomeRatio**, output the list of values that are identified as outliers on the basis of their z-scores."
   ]
  },
  {
   "cell_type": "code",
   "execution_count": 77,
   "metadata": {
    "colab": {},
    "colab_type": "code",
    "id": "ie5KpqAU0Dfe"
   },
   "outputs": [
    {
     "name": "stdout",
     "output_type": "stream",
     "text": [
      "Outlier Values for Age\n",
      "\n",
      "None\n",
      "\n",
      "Outlier Values for Other Debt\n",
      "\n",
      "18.257\n",
      "14.453\n",
      "15.405\n",
      "23.104\n",
      "20.616\n",
      "17.185\n",
      "13.050999999999998\n",
      "15.149000000000001\n",
      "17.799\n",
      "18.269000000000002\n",
      "14.719000000000001\n",
      "17.204\n",
      "12.959000000000001\n",
      "16.668\n",
      "27.034000000000002\n",
      "\n",
      "Outlier Values for DebtIncomeRatio\n",
      "\n",
      "32.5\n",
      "41.3\n",
      "35.3\n",
      "33.3\n",
      "36.6\n",
      "30.8\n",
      "33.4\n",
      "\n"
     ]
    }
   ],
   "source": [
    "from scipy.stats import zscore\n",
    "#Write code here\n",
    "def find_outliers(zscores, colname):\n",
    "    outliers_ind=[i for i in range(len(zscores)) if zscores[i]<-3 or zscores[i]>3]\n",
    "    outliers= np.array(cust[colname])[outliers_ind]\n",
    "    print(f\"Outlier Values for {colname}\\n\")\n",
    "    if len(outliers)==0:\n",
    "        print(\"None\\n\")\n",
    "        return outliers, outliers_ind\n",
    "    for outlier in outliers: print(outlier)\n",
    "    print()\n",
    "    \n",
    "    return outliers, outliers_ind\n",
    "    \n",
    "    \n",
    "age_Z_score=zscore(cust[\"Age\"])\n",
    "other_debt_Z_score=zscore(cust[\"Other Debt\"])\n",
    "DebtIncomeRatio_Z_score=zscore(cust[\"DebtIncomeRatio\"])\n",
    "\n",
    "\n",
    "age_outliers= [i for i in range(len(age_Z_score)) if age_Z_score[i]<-3 or age_Z_score[i]>3]\n",
    "ag1, ag2= find_outliers(age_Z_score,\"Age\")\n",
    "other_debt_outliers, _= find_outliers(other_debt_Z_score,\"Other Debt\")\n",
    "DebtIncomeRatio_outliers, _= find_outliers(DebtIncomeRatio_Z_score, \"DebtIncomeRatio\")\n"
   ]
  },
  {
   "cell_type": "markdown",
   "metadata": {
    "colab_type": "text",
    "id": "xCP3luCKmgZg"
   },
   "source": [
    "* **What z-score threshold did you use to detect the outliers and why?**\n",
    "\n",
    "3. The Z-score standardizes our data and removes any scale from it, the data then follows a distribution where the mean is 0 and standard deviation is 1. 99.7% of the data can typically be found within 3 standard devs of the mean i.e.  -3<x<3 so any point beyond these limits can be classified as an outlier."
   ]
  },
  {
   "cell_type": "markdown",
   "metadata": {
    "colab_type": "text",
    "id": "HqkWK081Jrwe"
   },
   "source": [
    "### ***IQR***"
   ]
  },
  {
   "cell_type": "markdown",
   "metadata": {
    "colab_type": "text",
    "id": "LIRiVGL80t1d"
   },
   "source": [
    "For **Age,Other_Debt and DebtIncomeRatio**, output the list of values that are identified as outliers on the basis of their IQR values."
   ]
  },
  {
   "cell_type": "markdown",
   "metadata": {
    "colab_type": "text",
    "id": "ygYxJtRoHHAp"
   },
   "source": [
    "For this, calculate the first (q1) and third quartile (q3). An outlier is then a data point  that lies outside the interquartile range. That is:\n",
    "*   *Lower outlier= Q1 - (k x IQR)*\n",
    "*   *Higher outlier= Q3 + (k x IQR)*\n",
    "\n",
    "Choose an appropriate 'k' for this part."
   ]
  },
  {
   "cell_type": "code",
   "execution_count": 84,
   "metadata": {
    "colab": {},
    "colab_type": "code",
    "id": "tHF2m8HAtbaP"
   },
   "outputs": [
    {
     "name": "stdout",
     "output_type": "stream",
     "text": [
      "11.0 11.0\n",
      "No outliers for Age\n"
     ]
    }
   ],
   "source": [
    "#Write code here\n",
    "\n",
    "def find_outlier_iqr(colname):\n",
    "    iqr= stats.iqr(cust[colname])\n",
    "    Q1=cust[colname].quantile(.25)\n",
    "    Q3=cust[colname].quantile(.75)\n",
    "    outliers= cust[ (cust[colname]<Q1- 1.5*iqr) | (cust[colname]>Q3+1.5*iqr)][colname]\n",
    "    if len(outlies)==0:\n",
    "        print(f\"No outliers for {colname}\\n\")\n",
    "    else:\n",
    "        print(f\"Outliers for {colname}\\n\")\n",
    "        print(outliers)\n",
    "        print()\n",
    "\n",
    "# other_debt_iqr=stats.iqr(cust[\"Other Debt\"])\n",
    "# DebtIncomeRatio_iqr=stats.iqr(cust[\"DebtIncomeRatio\"])\n",
    "\n",
    "# Q1_age=cust[\"Age\"].quantile(.25)\n",
    "# Q3_age=cust[\"Age\"].quantile(.75)\n",
    "# print(age_iqr, Q3_age-Q1_age)\n",
    "outlier_age= cust[ (cust[\"Age\"]<Q1_age- 1.5*age_iqr) | (cust[\"Age\"]>Q3_age+1.5*age_iqr)][\"Age\"]\n",
    "if len(outlier_age)==0:\n",
    "    print(\"No outliers for Age\")\n"
   ]
  },
  {
   "cell_type": "markdown",
   "metadata": {
    "colab_type": "text",
    "id": "jTAVLNH7mjhS"
   },
   "source": [
    "* **What k-value did you use to detect the outliers and why?**"
   ]
  },
  {
   "cell_type": "markdown",
   "metadata": {
    "colab_type": "text",
    "id": "DbEczKcvmtyJ"
   },
   "source": [
    "* **Which parameter (IQR or Z-score) is better outlier detection? Give reason.**"
   ]
  },
  {
   "cell_type": "markdown",
   "metadata": {
    "colab_type": "text",
    "id": "7xOHd8wbakME"
   },
   "source": [
    "### **Outlier Detection using LOC (Local Outlier Factor)**"
   ]
  },
  {
   "cell_type": "markdown",
   "metadata": {
    "colab_type": "text",
    "id": "QHnyjQFfaz_g"
   },
   "source": [
    "LOF uses density-based outlier detection to identify local outliers. An anomaly score is assigned to each sample which measures the local deviation of density of a this sample with respect to its neighbors. \n"
   ]
  },
  {
   "cell_type": "markdown",
   "metadata": {
    "colab_type": "text",
    "id": "evwRFDLSf9g2"
   },
   "source": [
    "**1.** Tranform the features by scaling them to a \n",
    "given range(e.g. 0-1):"
   ]
  },
  {
   "cell_type": "code",
   "execution_count": 0,
   "metadata": {
    "colab": {},
    "colab_type": "code",
    "id": "YHiU8lzOKtZ7"
   },
   "outputs": [],
   "source": [
    "from sklearn.preprocessing import MinMaxScaler\n",
    "#Write your code here"
   ]
  },
  {
   "cell_type": "markdown",
   "metadata": {
    "colab_type": "text",
    "id": "MeMWZNKxsNKb"
   },
   "source": [
    "**2.** Implement LOC algorithm using sklearn. Choose the parameters that will be passed into the function:"
   ]
  },
  {
   "cell_type": "code",
   "execution_count": 0,
   "metadata": {
    "colab": {},
    "colab_type": "code",
    "id": "BQNW1MRe5tdq"
   },
   "outputs": [],
   "source": [
    "#Write your code here   "
   ]
  },
  {
   "cell_type": "markdown",
   "metadata": {
    "colab_type": "text",
    "id": "rLQ5JB3rtsLq"
   },
   "source": [
    "Run LOC algorithm multiple times with different values for the '**n_neighbors** 'paramater. "
   ]
  },
  {
   "cell_type": "code",
   "execution_count": 0,
   "metadata": {
    "colab": {},
    "colab_type": "code",
    "id": "G0RxfpmBuFkU"
   },
   "outputs": [],
   "source": []
  },
  {
   "cell_type": "markdown",
   "metadata": {
    "colab_type": "text",
    "id": "LFa-qAleuGPJ"
   },
   "source": [
    "* **How did the results of LOC alogrithm vary by changing the value of 'n_neighbors'? What parameter value you ended up choosing and why?**"
   ]
  },
  {
   "cell_type": "markdown",
   "metadata": {
    "colab_type": "text",
    "id": "ojEOSRUOh1YM"
   },
   "source": [
    "**3.** Visualize the results using this function. You may also implement your own visualization function."
   ]
  },
  {
   "cell_type": "code",
   "execution_count": 0,
   "metadata": {
    "colab": {},
    "colab_type": "code",
    "id": "c2MZICNChvJm"
   },
   "outputs": [],
   "source": [
    "fig = plt.figure(figsize=(15,15))\n",
    "def plot_model(labels, alg_name):\n",
    "    ax = fig.add_subplot(3,2,1) \n",
    "    color_code = {'anomaly':'red', 'normal':'green'}\n",
    "    colors = [color_code[x] for x in labels]\n",
    "\n",
    "    ax.scatter(X.iloc[:,0], X.iloc[:,1], color=colors, marker='.', label='red = anomaly')\n",
    "    ax.legend(loc=\"lower right\")\n",
    "\n",
    "    leg = plt.gca().get_legend()\n",
    "    leg.legendHandles[0].set_color('red')\n",
    "\n",
    "    ax.set_title(alg_name)\n",
    "\n",
    "# plot_model(labels, 'LocalOutlierFactor')\n"
   ]
  },
  {
   "cell_type": "markdown",
   "metadata": {
    "colab_type": "text",
    "id": "PqiOZMUFOBfX"
   },
   "source": [
    "### **Isolation Forest**"
   ]
  },
  {
   "cell_type": "markdown",
   "metadata": {
    "colab_type": "text",
    "id": "dPcU1luqi2wj"
   },
   "source": [
    "Isolation Forest is an outlier detection algoritm that is based on the Decision Trees. It spearates the outliers by randomly selecting a certain attribute and then randomly selecting a split value between the max and min values of this feature."
   ]
  },
  {
   "cell_type": "markdown",
   "metadata": {
    "colab_type": "text",
    "id": "wQS5ooU3jyqx"
   },
   "source": [
    "**1.** Implement Isolation Forest algorithm using sklearn. Choose the parameters that will be passed into the function:"
   ]
  },
  {
   "cell_type": "code",
   "execution_count": 0,
   "metadata": {
    "colab": {},
    "colab_type": "code",
    "id": "JKh-LfcPjw9b"
   },
   "outputs": [],
   "source": [
    "#Write your code here"
   ]
  },
  {
   "cell_type": "markdown",
   "metadata": {
    "colab_type": "text",
    "id": "46NBSUmAvixi"
   },
   "source": [
    "* **What value did you use for the 'max_samples'?**"
   ]
  },
  {
   "cell_type": "markdown",
   "metadata": {
    "colab_type": "text",
    "id": "pnLdNLFvj-x8"
   },
   "source": [
    "**2.** Visualize the results using this function. You may also implement your own visualization function."
   ]
  },
  {
   "cell_type": "code",
   "execution_count": 0,
   "metadata": {
    "colab": {},
    "colab_type": "code",
    "id": "3f5juLAyouRW"
   },
   "outputs": [],
   "source": [
    "fig = plt.figure(figsize=(15,15))\n",
    "# plot_model(labels, 'Isolation Forest')"
   ]
  },
  {
   "cell_type": "markdown",
   "metadata": {
    "colab_type": "text",
    "id": "d9T0rfA3tKTD"
   },
   "source": [
    "* **Compare the results from both LOC and Isolation Forest:** \n",
    "\n"
   ]
  },
  {
   "cell_type": "markdown",
   "metadata": {
    "colab_type": "text",
    "id": "QpwHtN7iu6gN"
   },
   "source": [
    "*Comparison:*"
   ]
  }
 ],
 "metadata": {
  "colab": {
   "collapsed_sections": [],
   "name": "Outlier_detection_question.ipynb",
   "provenance": []
  },
  "kernelspec": {
   "display_name": "Python 3",
   "language": "python",
   "name": "python3"
  },
  "language_info": {
   "codemirror_mode": {
    "name": "ipython",
    "version": 3
   },
   "file_extension": ".py",
   "mimetype": "text/x-python",
   "name": "python",
   "nbconvert_exporter": "python",
   "pygments_lexer": "ipython3",
   "version": "3.7.3"
  }
 },
 "nbformat": 4,
 "nbformat_minor": 1
}
