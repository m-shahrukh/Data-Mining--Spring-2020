{
 "cells": [
  {
   "cell_type": "markdown",
   "metadata": {},
   "source": [
    "# Question 3\n",
    "\n",
    "1. In this part, you are required to implement Apriori and FPgrowth algorithms on the data provided as \"data_apriori_fpgrowth/data.csv\". The dataset is of online directory of certified businesses.\n",
    "\n",
    "2. We have loaded the dataset for you.\n",
    "\n",
    "3. You are free to use any library or implement your own algorithms.\n",
    "\n",
    "\n",
    "**Use minimum support : 0.1**"
   ]
  },
  {
   "cell_type": "code",
   "execution_count": 72,
   "metadata": {},
   "outputs": [],
   "source": [
    "import pandas as pd\n",
    "import numpy as np\n",
    "import time\n",
    "from mlxtend.preprocessing import TransactionEncoder\n",
    "from mlxtend.frequent_patterns import apriori, fpgrowth\n",
    "import timeit"
   ]
  },
  {
   "cell_type": "code",
   "execution_count": 73,
   "metadata": {},
   "outputs": [],
   "source": [
    "data = np.load(\"data_apriori_fpgrowth/data.npy\", allow_pickle = True)"
   ]
  },
  {
   "cell_type": "markdown",
   "metadata": {},
   "source": [
    "# To Do\n",
    "1. Run Apriori Algorithm on the dataset using minimum support 0.1.\n",
    " 1. Note the run time of the algorithm to find frequent item sets.\n",
    " 1. Print all the frequent item sets found by apriori.\n",
    " 1. Print all frequent item sets of length $2$ or higher with support of $0.2$ or higher. \n",
    "1. Run FPGrowth Algorithm on the dataset using minimum support 0.1.\n",
    " 1. Note the run time of the FPGrowth algorithm to find frequent item sets.\n",
    " 1. Print all frequent item sets found by FPGrowth.\n",
    " 1. Print all frequent item sets of length $2$ or higher with support of $0.2$ or higher.\n",
    "1. Answer the following question:\n",
    " 1. Both algorithms find and return exactly the same frequent itemsets (given same parameters of support and itemset length). What difference do you note in both of the algorithms?\n",
    " 1. There were more than $1000$ transactions. Why there are too few itemsets returned by the algorithms?\n",
    " "
   ]
  },
  {
   "cell_type": "markdown",
   "metadata": {},
   "source": [
    "# Apriori [10 marks]"
   ]
  },
  {
   "cell_type": "code",
   "execution_count": 74,
   "metadata": {},
   "outputs": [
    {
     "name": "stdout",
     "output_type": "stream",
     "text": [
      "Apriori Runtime: 0.02 seconds\n"
     ]
    }
   ],
   "source": [
    "# Apriori \n",
    "te=TransactionEncoder()\n",
    "te_arr= te.fit(data).transform(data)\n",
    "df= pd.DataFrame(te_arr, columns= te.columns_)\n",
    "totalTime=0\n",
    "for i in range(0,5):\n",
    "    start=time.time()\n",
    "    frequentItemsets=apriori(df, min_support=0.1, use_colnames=True)\n",
    "    finish=time.time()\n",
    "    totalTime+=finish-start\n",
    "print(\"Apriori Runtime: %.2f\"% (totalTime/5), \"seconds\")\n",
    "#print(finish-start)"
   ]
  },
  {
   "cell_type": "code",
   "execution_count": 75,
   "metadata": {},
   "outputs": [
    {
     "data": {
      "text/html": [
       "<div>\n",
       "<style scoped>\n",
       "    .dataframe tbody tr th:only-of-type {\n",
       "        vertical-align: middle;\n",
       "    }\n",
       "\n",
       "    .dataframe tbody tr th {\n",
       "        vertical-align: top;\n",
       "    }\n",
       "\n",
       "    .dataframe thead th {\n",
       "        text-align: right;\n",
       "    }\n",
       "</style>\n",
       "<table border=\"1\" class=\"dataframe\">\n",
       "  <thead>\n",
       "    <tr style=\"text-align: right;\">\n",
       "      <th></th>\n",
       "      <th>support</th>\n",
       "      <th>itemsets</th>\n",
       "    </tr>\n",
       "  </thead>\n",
       "  <tbody>\n",
       "    <tr>\n",
       "      <th>0</th>\n",
       "      <td>0.202113</td>\n",
       "      <td>(ASIAN)</td>\n",
       "    </tr>\n",
       "    <tr>\n",
       "      <th>1</th>\n",
       "      <td>0.300704</td>\n",
       "      <td>(BLACK)</td>\n",
       "    </tr>\n",
       "    <tr>\n",
       "      <th>2</th>\n",
       "      <td>0.152113</td>\n",
       "      <td>(Brooklyn)</td>\n",
       "    </tr>\n",
       "    <tr>\n",
       "      <th>3</th>\n",
       "      <td>0.164085</td>\n",
       "      <td>(HISPANIC)</td>\n",
       "    </tr>\n",
       "    <tr>\n",
       "      <th>4</th>\n",
       "      <td>0.671127</td>\n",
       "      <td>(MBE)</td>\n",
       "    </tr>\n",
       "    <tr>\n",
       "      <th>5</th>\n",
       "      <td>0.300000</td>\n",
       "      <td>(NON-MINORITY)</td>\n",
       "    </tr>\n",
       "    <tr>\n",
       "      <th>6</th>\n",
       "      <td>0.295070</td>\n",
       "      <td>(New York)</td>\n",
       "    </tr>\n",
       "    <tr>\n",
       "      <th>7</th>\n",
       "      <td>0.477465</td>\n",
       "      <td>(WBE)</td>\n",
       "    </tr>\n",
       "    <tr>\n",
       "      <th>8</th>\n",
       "      <td>0.200000</td>\n",
       "      <td>(ASIAN, MBE)</td>\n",
       "    </tr>\n",
       "    <tr>\n",
       "      <th>9</th>\n",
       "      <td>0.300704</td>\n",
       "      <td>(BLACK, MBE)</td>\n",
       "    </tr>\n",
       "    <tr>\n",
       "      <th>10</th>\n",
       "      <td>0.112676</td>\n",
       "      <td>(Brooklyn, MBE)</td>\n",
       "    </tr>\n",
       "    <tr>\n",
       "      <th>11</th>\n",
       "      <td>0.164085</td>\n",
       "      <td>(HISPANIC, MBE)</td>\n",
       "    </tr>\n",
       "    <tr>\n",
       "      <th>12</th>\n",
       "      <td>0.170423</td>\n",
       "      <td>(MBE, New York)</td>\n",
       "    </tr>\n",
       "    <tr>\n",
       "      <th>13</th>\n",
       "      <td>0.169014</td>\n",
       "      <td>(MBE, WBE)</td>\n",
       "    </tr>\n",
       "    <tr>\n",
       "      <th>14</th>\n",
       "      <td>0.118310</td>\n",
       "      <td>(New York, NON-MINORITY)</td>\n",
       "    </tr>\n",
       "    <tr>\n",
       "      <th>15</th>\n",
       "      <td>0.300000</td>\n",
       "      <td>(NON-MINORITY, WBE)</td>\n",
       "    </tr>\n",
       "    <tr>\n",
       "      <th>16</th>\n",
       "      <td>0.175352</td>\n",
       "      <td>(New York, WBE)</td>\n",
       "    </tr>\n",
       "    <tr>\n",
       "      <th>17</th>\n",
       "      <td>0.118310</td>\n",
       "      <td>(New York, NON-MINORITY, WBE)</td>\n",
       "    </tr>\n",
       "  </tbody>\n",
       "</table>\n",
       "</div>"
      ],
      "text/plain": [
       "     support                       itemsets\n",
       "0   0.202113                        (ASIAN)\n",
       "1   0.300704                        (BLACK)\n",
       "2   0.152113                     (Brooklyn)\n",
       "3   0.164085                     (HISPANIC)\n",
       "4   0.671127                          (MBE)\n",
       "5   0.300000                 (NON-MINORITY)\n",
       "6   0.295070                     (New York)\n",
       "7   0.477465                          (WBE)\n",
       "8   0.200000                   (ASIAN, MBE)\n",
       "9   0.300704                   (BLACK, MBE)\n",
       "10  0.112676                (Brooklyn, MBE)\n",
       "11  0.164085                (HISPANIC, MBE)\n",
       "12  0.170423                (MBE, New York)\n",
       "13  0.169014                     (MBE, WBE)\n",
       "14  0.118310       (New York, NON-MINORITY)\n",
       "15  0.300000            (NON-MINORITY, WBE)\n",
       "16  0.175352                (New York, WBE)\n",
       "17  0.118310  (New York, NON-MINORITY, WBE)"
      ]
     },
     "execution_count": 75,
     "metadata": {},
     "output_type": "execute_result"
    }
   ],
   "source": [
    "# All Frequent Itemsets\n",
    "(frequentItemsets)\n"
   ]
  },
  {
   "cell_type": "code",
   "execution_count": 76,
   "metadata": {},
   "outputs": [
    {
     "data": {
      "text/html": [
       "<div>\n",
       "<style scoped>\n",
       "    .dataframe tbody tr th:only-of-type {\n",
       "        vertical-align: middle;\n",
       "    }\n",
       "\n",
       "    .dataframe tbody tr th {\n",
       "        vertical-align: top;\n",
       "    }\n",
       "\n",
       "    .dataframe thead th {\n",
       "        text-align: right;\n",
       "    }\n",
       "</style>\n",
       "<table border=\"1\" class=\"dataframe\">\n",
       "  <thead>\n",
       "    <tr style=\"text-align: right;\">\n",
       "      <th></th>\n",
       "      <th>support</th>\n",
       "      <th>itemsets</th>\n",
       "      <th>length</th>\n",
       "    </tr>\n",
       "  </thead>\n",
       "  <tbody>\n",
       "    <tr>\n",
       "      <th>8</th>\n",
       "      <td>0.200000</td>\n",
       "      <td>(ASIAN, MBE)</td>\n",
       "      <td>2</td>\n",
       "    </tr>\n",
       "    <tr>\n",
       "      <th>9</th>\n",
       "      <td>0.300704</td>\n",
       "      <td>(BLACK, MBE)</td>\n",
       "      <td>2</td>\n",
       "    </tr>\n",
       "    <tr>\n",
       "      <th>15</th>\n",
       "      <td>0.300000</td>\n",
       "      <td>(NON-MINORITY, WBE)</td>\n",
       "      <td>2</td>\n",
       "    </tr>\n",
       "  </tbody>\n",
       "</table>\n",
       "</div>"
      ],
      "text/plain": [
       "     support             itemsets  length\n",
       "8   0.200000         (ASIAN, MBE)       2\n",
       "9   0.300704         (BLACK, MBE)       2\n",
       "15  0.300000  (NON-MINORITY, WBE)       2"
      ]
     },
     "execution_count": 76,
     "metadata": {},
     "output_type": "execute_result"
    }
   ],
   "source": [
    "# Frequent itemsets of length 2 with support of 0.2\n",
    "frequentItemsets[\"length\"]=frequentItemsets[\"itemsets\"].apply(lambda x: len(x) )\n",
    "frequentItemsets[(frequentItemsets[\"length\"]>=2) & (frequentItemsets[\"support\"]>=0.2)]"
   ]
  },
  {
   "cell_type": "markdown",
   "metadata": {},
   "source": [
    "# FPGrowth [10 marks]"
   ]
  },
  {
   "cell_type": "code",
   "execution_count": 77,
   "metadata": {},
   "outputs": [
    {
     "name": "stdout",
     "output_type": "stream",
     "text": [
      "FP Growth Runtime: 0.03 seconds\n"
     ]
    }
   ],
   "source": [
    "# FPGrowth\n",
    "totalTime=0\n",
    "for i in range(0,5):\n",
    "    start=time.time()\n",
    "    frequentItemsets2= fpgrowth(df, min_support=0.1, use_colnames=True)\n",
    "    finish=time.time()\n",
    "    totalTime+=finish-start\n",
    "print(\"FP Growth Runtime: %.2f\"% (totalTime/5), \"seconds\")\n"
   ]
  },
  {
   "cell_type": "code",
   "execution_count": 78,
   "metadata": {},
   "outputs": [
    {
     "data": {
      "text/html": [
       "<div>\n",
       "<style scoped>\n",
       "    .dataframe tbody tr th:only-of-type {\n",
       "        vertical-align: middle;\n",
       "    }\n",
       "\n",
       "    .dataframe tbody tr th {\n",
       "        vertical-align: top;\n",
       "    }\n",
       "\n",
       "    .dataframe thead th {\n",
       "        text-align: right;\n",
       "    }\n",
       "</style>\n",
       "<table border=\"1\" class=\"dataframe\">\n",
       "  <thead>\n",
       "    <tr style=\"text-align: right;\">\n",
       "      <th></th>\n",
       "      <th>support</th>\n",
       "      <th>itemsets</th>\n",
       "    </tr>\n",
       "  </thead>\n",
       "  <tbody>\n",
       "    <tr>\n",
       "      <th>0</th>\n",
       "      <td>0.671127</td>\n",
       "      <td>(MBE)</td>\n",
       "    </tr>\n",
       "    <tr>\n",
       "      <th>1</th>\n",
       "      <td>0.477465</td>\n",
       "      <td>(WBE)</td>\n",
       "    </tr>\n",
       "    <tr>\n",
       "      <th>2</th>\n",
       "      <td>0.300704</td>\n",
       "      <td>(BLACK)</td>\n",
       "    </tr>\n",
       "    <tr>\n",
       "      <th>3</th>\n",
       "      <td>0.152113</td>\n",
       "      <td>(Brooklyn)</td>\n",
       "    </tr>\n",
       "    <tr>\n",
       "      <th>4</th>\n",
       "      <td>0.202113</td>\n",
       "      <td>(ASIAN)</td>\n",
       "    </tr>\n",
       "    <tr>\n",
       "      <th>5</th>\n",
       "      <td>0.295070</td>\n",
       "      <td>(New York)</td>\n",
       "    </tr>\n",
       "    <tr>\n",
       "      <th>6</th>\n",
       "      <td>0.164085</td>\n",
       "      <td>(HISPANIC)</td>\n",
       "    </tr>\n",
       "    <tr>\n",
       "      <th>7</th>\n",
       "      <td>0.300000</td>\n",
       "      <td>(NON-MINORITY)</td>\n",
       "    </tr>\n",
       "    <tr>\n",
       "      <th>8</th>\n",
       "      <td>0.169014</td>\n",
       "      <td>(MBE, WBE)</td>\n",
       "    </tr>\n",
       "    <tr>\n",
       "      <th>9</th>\n",
       "      <td>0.300704</td>\n",
       "      <td>(BLACK, MBE)</td>\n",
       "    </tr>\n",
       "    <tr>\n",
       "      <th>10</th>\n",
       "      <td>0.112676</td>\n",
       "      <td>(Brooklyn, MBE)</td>\n",
       "    </tr>\n",
       "    <tr>\n",
       "      <th>11</th>\n",
       "      <td>0.200000</td>\n",
       "      <td>(ASIAN, MBE)</td>\n",
       "    </tr>\n",
       "    <tr>\n",
       "      <th>12</th>\n",
       "      <td>0.175352</td>\n",
       "      <td>(New York, WBE)</td>\n",
       "    </tr>\n",
       "    <tr>\n",
       "      <th>13</th>\n",
       "      <td>0.170423</td>\n",
       "      <td>(MBE, New York)</td>\n",
       "    </tr>\n",
       "    <tr>\n",
       "      <th>14</th>\n",
       "      <td>0.118310</td>\n",
       "      <td>(New York, NON-MINORITY)</td>\n",
       "    </tr>\n",
       "    <tr>\n",
       "      <th>15</th>\n",
       "      <td>0.118310</td>\n",
       "      <td>(New York, NON-MINORITY, WBE)</td>\n",
       "    </tr>\n",
       "    <tr>\n",
       "      <th>16</th>\n",
       "      <td>0.164085</td>\n",
       "      <td>(HISPANIC, MBE)</td>\n",
       "    </tr>\n",
       "    <tr>\n",
       "      <th>17</th>\n",
       "      <td>0.300000</td>\n",
       "      <td>(NON-MINORITY, WBE)</td>\n",
       "    </tr>\n",
       "  </tbody>\n",
       "</table>\n",
       "</div>"
      ],
      "text/plain": [
       "     support                       itemsets\n",
       "0   0.671127                          (MBE)\n",
       "1   0.477465                          (WBE)\n",
       "2   0.300704                        (BLACK)\n",
       "3   0.152113                     (Brooklyn)\n",
       "4   0.202113                        (ASIAN)\n",
       "5   0.295070                     (New York)\n",
       "6   0.164085                     (HISPANIC)\n",
       "7   0.300000                 (NON-MINORITY)\n",
       "8   0.169014                     (MBE, WBE)\n",
       "9   0.300704                   (BLACK, MBE)\n",
       "10  0.112676                (Brooklyn, MBE)\n",
       "11  0.200000                   (ASIAN, MBE)\n",
       "12  0.175352                (New York, WBE)\n",
       "13  0.170423                (MBE, New York)\n",
       "14  0.118310       (New York, NON-MINORITY)\n",
       "15  0.118310  (New York, NON-MINORITY, WBE)\n",
       "16  0.164085                (HISPANIC, MBE)\n",
       "17  0.300000            (NON-MINORITY, WBE)"
      ]
     },
     "execution_count": 78,
     "metadata": {},
     "output_type": "execute_result"
    }
   ],
   "source": [
    "# All Frequent Itemsets\n",
    "frequentItemsets2"
   ]
  },
  {
   "cell_type": "code",
   "execution_count": 79,
   "metadata": {},
   "outputs": [
    {
     "data": {
      "text/html": [
       "<div>\n",
       "<style scoped>\n",
       "    .dataframe tbody tr th:only-of-type {\n",
       "        vertical-align: middle;\n",
       "    }\n",
       "\n",
       "    .dataframe tbody tr th {\n",
       "        vertical-align: top;\n",
       "    }\n",
       "\n",
       "    .dataframe thead th {\n",
       "        text-align: right;\n",
       "    }\n",
       "</style>\n",
       "<table border=\"1\" class=\"dataframe\">\n",
       "  <thead>\n",
       "    <tr style=\"text-align: right;\">\n",
       "      <th></th>\n",
       "      <th>support</th>\n",
       "      <th>itemsets</th>\n",
       "      <th>length</th>\n",
       "    </tr>\n",
       "  </thead>\n",
       "  <tbody>\n",
       "    <tr>\n",
       "      <th>9</th>\n",
       "      <td>0.300704</td>\n",
       "      <td>(BLACK, MBE)</td>\n",
       "      <td>2</td>\n",
       "    </tr>\n",
       "    <tr>\n",
       "      <th>11</th>\n",
       "      <td>0.200000</td>\n",
       "      <td>(ASIAN, MBE)</td>\n",
       "      <td>2</td>\n",
       "    </tr>\n",
       "    <tr>\n",
       "      <th>17</th>\n",
       "      <td>0.300000</td>\n",
       "      <td>(NON-MINORITY, WBE)</td>\n",
       "      <td>2</td>\n",
       "    </tr>\n",
       "  </tbody>\n",
       "</table>\n",
       "</div>"
      ],
      "text/plain": [
       "     support             itemsets  length\n",
       "9   0.300704         (BLACK, MBE)       2\n",
       "11  0.200000         (ASIAN, MBE)       2\n",
       "17  0.300000  (NON-MINORITY, WBE)       2"
      ]
     },
     "execution_count": 79,
     "metadata": {},
     "output_type": "execute_result"
    }
   ],
   "source": [
    "# Frequent itemsets of length 2 with support of 0.2\n",
    "frequentItemsets2[\"length\"]=frequentItemsets2[\"itemsets\"].apply(lambda x: len(x) )\n",
    "frequentItemsets2[(frequentItemsets2[\"length\"]>=2) & (frequentItemsets2[\"support\"]>=0.2)]"
   ]
  },
  {
   "cell_type": "markdown",
   "metadata": {},
   "source": [
    "# Answer to the Questions [5 marks]"
   ]
  },
  {
   "cell_type": "markdown",
   "metadata": {},
   "source": [
    "<h2>3 A): </h2> As we can see, both algorithms have separate runtime complexity as Apriori takes 0.02 seconds while fpgrowth takes 0.03.\n",
    "This is because in Apriori multiple scans of the DB are made and a tree is constructed and mined in FP growth so both would have different runtime complexities. Generally, as the size of the DB increases, FP growth's complexity improves relative to Apriori and is the preferred choice in case of larger DBs.\n",
    "\n",
    "Apriori generally runs faster in smaller DBs and where there are less itemsets meeting the minSupport threshold and the longest itemset length is low, all of which are true in our given DB. As we see, the max length of our frequent itemsets is 3, so Apriori terminates after just a few scans meanwhile for FP it has to construct the entire tree."
   ]
  },
  {
   "cell_type": "markdown",
   "metadata": {},
   "source": [
    "<h2>3 B): </h2> \n",
    "If we look at the min support 0.1 and if the num transactions >1000 then each itemset needs to have a count of over 100 to be considered as a frequent itemset. However, from our algorithms we see that the highest support percentage was 0.3 so there were not many itemsets that met our min_support threshold. Therefore, since these are frequent itemset mining algorithms, they only return those itemsets that satisfy our min_support threshold for frequent itemsets and that's why the results returned by the algorithms were only few. "
   ]
  },
  {
   "cell_type": "code",
   "execution_count": null,
   "metadata": {
    "scrolled": true
   },
   "outputs": [],
   "source": []
  }
 ],
 "metadata": {
  "kernelspec": {
   "display_name": "Python 3",
   "language": "python",
   "name": "python3"
  },
  "language_info": {
   "codemirror_mode": {
    "name": "ipython",
    "version": 3
   },
   "file_extension": ".py",
   "mimetype": "text/x-python",
   "name": "python",
   "nbconvert_exporter": "python",
   "pygments_lexer": "ipython3",
   "version": "3.7.3"
  }
 },
 "nbformat": 4,
 "nbformat_minor": 2
}
